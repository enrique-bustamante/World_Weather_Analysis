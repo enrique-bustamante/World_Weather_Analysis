{
 "cells": [
  {
   "cell_type": "code",
   "execution_count": null,
   "metadata": {},
   "outputs": [],
   "source": [
    "# Collect the data"
   ]
  },
  {
   "cell_type": "code",
   "execution_count": null,
   "metadata": {},
   "outputs": [],
   "source": [
    "# Use the NumPy module to generate more than 1,500 random latitudes and longitudes.\n"
   ]
  },
  {
   "cell_type": "code",
   "execution_count": null,
   "metadata": {},
   "outputs": [],
   "source": [
    "# Use the citipy module to list the nearest city to the latitudes and longitudes.\n"
   ]
  },
  {
   "cell_type": "code",
   "execution_count": null,
   "metadata": {},
   "outputs": [],
   "source": [
    "# Use the OpenWeatherMap API to request the current weather data from each unique city in your list.\n"
   ]
  },
  {
   "cell_type": "code",
   "execution_count": null,
   "metadata": {},
   "outputs": [],
   "source": [
    "# Parse the JSON data from the API request.\n"
   ]
  },
  {
   "cell_type": "code",
   "execution_count": null,
   "metadata": {},
   "outputs": [],
   "source": [
    "# Collect the following data from the JSON file and add it to a DataFrame:\n",
    "\n",
    "# City, country, and date\n",
    "# Latitude and longitude\n",
    "# Maximum temperature\n",
    "# Humidity\n",
    "# Cloudiness\n",
    "# Wind speed"
   ]
  },
  {
   "cell_type": "code",
   "execution_count": null,
   "metadata": {},
   "outputs": [],
   "source": [
    "# Exploratory Analysis with visualization"
   ]
  },
  {
   "cell_type": "code",
   "execution_count": null,
   "metadata": {},
   "outputs": [],
   "source": [
    "# Create scatter plots of the weather data for the following comparisons:\n",
    "\n",
    "# Latitude versus temperature\n",
    "# Latitude versus humidity\n",
    "# Latitude versus cloudiness\n",
    "# Latitude versus wind speed"
   ]
  },
  {
   "cell_type": "code",
   "execution_count": null,
   "metadata": {},
   "outputs": [],
   "source": [
    "# Determine the correlations for the following weather data:\n",
    "\n",
    "# Latitude and temperature\n",
    "# Latitude and humidity\n",
    "# Latitude and cloudiness\n",
    "# Latitude and wind speed"
   ]
  },
  {
   "cell_type": "code",
   "execution_count": null,
   "metadata": {},
   "outputs": [],
   "source": [
    "# Create a series of heatmaps using the Google Maps and Places API that showcases the following:\n",
    "\n",
    "# Latitude and temperature\n",
    "# Latitude and humidity\n",
    "# Latitude and cloudiness\n",
    "# Latitude and wind speed"
   ]
  },
  {
   "cell_type": "code",
   "execution_count": null,
   "metadata": {},
   "outputs": [],
   "source": [
    "# Visualize Travel Data"
   ]
  },
  {
   "cell_type": "code",
   "execution_count": null,
   "metadata": {},
   "outputs": [],
   "source": [
    "# Create a heatmap with pop-up markers that can display information on specific cities based on a customer’s travel preferences. Complete these steps:\n",
    "\n",
    "# Filter the Pandas DataFrame based on user inputs for a minimum and maximum temperature.\n",
    "# Create a heatmap for the new DataFrame.\n",
    "# Find a hotel from the cities’ coordinates using Google’s Maps and Places API, and Search Nearby feature.\n",
    "# Store the name of the first hotel in the DataFrame.\n",
    "# Add pop-up markers to the heatmap that display information about the city, current maximum temperature, and a hotel in the city."
   ]
  }
 ],
 "metadata": {
  "language_info": {
   "codemirror_mode": {
    "name": "ipython",
    "version": 3
   },
   "file_extension": ".py",
   "mimetype": "text/x-python",
   "name": "python",
   "nbconvert_exporter": "python",
   "pygments_lexer": "ipython3",
   "version": 3
  },
  "orig_nbformat": 2
 },
 "nbformat": 4,
 "nbformat_minor": 2
}