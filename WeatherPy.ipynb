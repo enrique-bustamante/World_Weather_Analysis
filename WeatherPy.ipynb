{
 "cells": [
  {
   "cell_type": "code",
   "execution_count": 17,
   "metadata": {},
   "outputs": [],
   "source": [
    "# Collect the data\n",
    "# import the dependencies we will need to run analysis\n",
    "from datetime import datetime\n",
    "import numpy as np \n",
    "from citipy import citipy\n",
    "import requests\n",
    "from config import weather_api_key\n",
    "import pandas as pd \n"
   ]
  },
  {
   "cell_type": "code",
   "execution_count": 2,
   "metadata": {},
   "outputs": [],
   "source": [
    "# Use the NumPy module to generate more than 1,500 random latitudes and longitudes.\n",
    "lats = np.random.uniform(low=-90.000, high=90.000, size=1500)\n",
    "lngs = np. random.uniform(low=-180.000, high=180.000, size=1500)\n",
    "lat_lngs = zip(lats, lngs)\n",
    "lat_lngs# Create a set of random latitude and longitude combinations.\n",
    "lats = np.random.uniform(low=-90.000, high=90.000, size=1500)\n",
    "lngs = np. random.uniform(low=-180.000, high=180.000, size=1500)\n",
    "lat_lngs = zip(lats, lngs)\n",
    "lat_lngs\n",
    "coordinates = list(lat_lngs)"
   ]
  },
  {
   "cell_type": "code",
   "execution_count": 3,
   "metadata": {},
   "outputs": [],
   "source": [
    "# Use the citipy module to list the nearest city to the latitudes and longitudes.\n",
    "# Create a list for holding the cities.\n",
    "cities = []\n",
    "# Identify the nearest city for each latitude and longitude combination.\n",
    "for coordinate in coordinates:\n",
    "    city = citipy.nearest_city(coordinate[0], coordinate[1]).city_name\n",
    "    \n",
    "    # If the city is unique, then we will add it to the cities list.\n",
    "    if city not in cities:\n",
    "        cities.append(city)"
   ]
  },
  {
   "cell_type": "code",
   "execution_count": 4,
   "metadata": {},
   "outputs": [
    {
     "output_type": "execute_result",
     "data": {
      "text/plain": "{'coord': {'lon': -71.06, 'lat': 42.36},\n 'weather': [{'id': 701,\n   'main': 'Mist',\n   'description': 'mist',\n   'icon': '50n'}],\n 'base': 'stations',\n 'main': {'temp': 66.45,\n  'feels_like': 68.2,\n  'temp_min': 64,\n  'temp_max': 69.01,\n  'pressure': 1014,\n  'humidity': 93},\n 'visibility': 8047,\n 'wind': {'speed': 5.82, 'deg': 140},\n 'clouds': {'all': 1},\n 'dt': 1593921921,\n 'sys': {'type': 1,\n  'id': 3486,\n  'country': 'US',\n  'sunrise': 1593940418,\n  'sunset': 1593995029},\n 'timezone': -14400,\n 'id': 4930956,\n 'name': 'Boston',\n 'cod': 200}"
     },
     "metadata": {},
     "execution_count": 4
    }
   ],
   "source": [
    "# Use the OpenWeatherMap API to request the current weather data from each unique city in your list.\n",
    "url = \"http://api.openweathermap.org/data/2.5/weather?units=Imperial&APPID=\" + weather_api_key\n",
    "city_url = url + \"&q=\" + \"Boston\"\n",
    "city_weather = requests.get(city_url)\n",
    "city_weather.json()"
   ]
  },
  {
   "cell_type": "code",
   "execution_count": 5,
   "metadata": {},
   "outputs": [],
   "source": [
    "# Parse the JSON data from the API request.\n"
   ]
  },
  {
   "cell_type": "code",
   "execution_count": 6,
   "metadata": {
    "tags": [
     "outputPrepend"
    ]
   },
   "outputs": [
    {
     "output_type": "stream",
     "name": "stdout",
     "text": "rtalik\nProcessing Record 5 of Set 5 | olafsvik\nProcessing Record 6 of Set 5 | severo-kurilsk\nProcessing Record 7 of Set 5 | vila franca do campo\nProcessing Record 8 of Set 5 | istok\nProcessing Record 9 of Set 5 | shikohabad\nProcessing Record 10 of Set 5 | maningrida\nProcessing Record 11 of Set 5 | bogotol\nProcessing Record 12 of Set 5 | almaznyy\nProcessing Record 13 of Set 5 | dubenskiy\nCity not found. Skipping...\nProcessing Record 14 of Set 5 | nikolskoye\nProcessing Record 15 of Set 5 | hermanus\nProcessing Record 16 of Set 5 | dunedin\nProcessing Record 17 of Set 5 | faridpur\nProcessing Record 18 of Set 5 | yerbogachen\nProcessing Record 19 of Set 5 | aplahoue\nProcessing Record 20 of Set 5 | hilo\nProcessing Record 21 of Set 5 | naze\nProcessing Record 22 of Set 5 | kaka\nProcessing Record 23 of Set 5 | atherton\nProcessing Record 24 of Set 5 | mabaruma\nProcessing Record 25 of Set 5 | antofagasta\nProcessing Record 26 of Set 5 | birjand\nProcessing Record 27 of Set 5 | sao joao do piaui\nProcessing Record 28 of Set 5 | bisignano\nProcessing Record 29 of Set 5 | ferrol\nProcessing Record 30 of Set 5 | lazaro cardenas\nProcessing Record 31 of Set 5 | mount isa\nProcessing Record 32 of Set 5 | carnarvon\nProcessing Record 33 of Set 5 | hithadhoo\nProcessing Record 34 of Set 5 | bilecik\nProcessing Record 35 of Set 5 | cabo san lucas\nProcessing Record 36 of Set 5 | port keats\nProcessing Record 37 of Set 5 | newport\nProcessing Record 38 of Set 5 | aleysk\nProcessing Record 39 of Set 5 | khatanga\nProcessing Record 40 of Set 5 | cervo\nProcessing Record 41 of Set 5 | tiksi\nProcessing Record 42 of Set 5 | tuktoyaktuk\nProcessing Record 43 of Set 5 | dawson creek\nProcessing Record 44 of Set 5 | laguna\nProcessing Record 45 of Set 5 | touros\nProcessing Record 46 of Set 5 | tsihombe\nCity not found. Skipping...\nProcessing Record 47 of Set 5 | santiago\nProcessing Record 48 of Set 5 | kavieng\nProcessing Record 49 of Set 5 | kutum\nProcessing Record 50 of Set 5 | cagayan de tawi-tawi\nCity not found. Skipping...\nProcessing Record 1 of Set 6 | vaitupu\nCity not found. Skipping...\nProcessing Record 2 of Set 6 | sehithwa\nProcessing Record 3 of Set 6 | kiama\nProcessing Record 4 of Set 6 | marzuq\nProcessing Record 5 of Set 6 | the valley\nProcessing Record 6 of Set 6 | seoul\nProcessing Record 7 of Set 6 | chake chake\nProcessing Record 8 of Set 6 | hamilton\nProcessing Record 9 of Set 6 | bainbridge\nProcessing Record 10 of Set 6 | primorsk\nProcessing Record 11 of Set 6 | esperance\nProcessing Record 12 of Set 6 | lakes entrance\nProcessing Record 13 of Set 6 | poanas\nProcessing Record 14 of Set 6 | bacolod\nProcessing Record 15 of Set 6 | sabha\nProcessing Record 16 of Set 6 | cherskiy\nProcessing Record 17 of Set 6 | padang\nProcessing Record 18 of Set 6 | san juan\nProcessing Record 19 of Set 6 | ola\nProcessing Record 20 of Set 6 | tasiilaq\nProcessing Record 21 of Set 6 | acajutla\nProcessing Record 22 of Set 6 | teya\nProcessing Record 23 of Set 6 | taoudenni\nProcessing Record 24 of Set 6 | fort abbas\nProcessing Record 25 of Set 6 | sentyabrskiy\nCity not found. Skipping...\nProcessing Record 26 of Set 6 | srednekolymsk\nProcessing Record 27 of Set 6 | merauke\nProcessing Record 28 of Set 6 | umm lajj\nProcessing Record 29 of Set 6 | tromso\nProcessing Record 30 of Set 6 | port-cartier\nProcessing Record 31 of Set 6 | farafangana\nProcessing Record 32 of Set 6 | margate\nProcessing Record 33 of Set 6 | rodrigues alves\nProcessing Record 34 of Set 6 | grand haven\nProcessing Record 35 of Set 6 | colesberg\nProcessing Record 36 of Set 6 | tutoia\nProcessing Record 37 of Set 6 | verkhnevilyuysk\nProcessing Record 38 of Set 6 | sao filipe\nProcessing Record 39 of Set 6 | dutse\nProcessing Record 40 of Set 6 | aquiraz\nProcessing Record 41 of Set 6 | pangnirtung\nProcessing Record 42 of Set 6 | airai\nProcessing Record 43 of Set 6 | santa helena de goias\nProcessing Record 44 of Set 6 | yulara\nProcessing Record 45 of Set 6 | mingguang\nProcessing Record 46 of Set 6 | samusu\nCity not found. Skipping...\nProcessing Record 47 of Set 6 | lata\nProcessing Record 48 of Set 6 | pandamatenga\nProcessing Record 49 of Set 6 | macaubas\nProcessing Record 50 of Set 6 | anadyr\nProcessing Record 1 of Set 7 | pisco\nProcessing Record 2 of Set 7 | quelimane\nProcessing Record 3 of Set 7 | karlskrona\nProcessing Record 4 of Set 7 | albion\nProcessing Record 5 of Set 7 | alofi\nProcessing Record 6 of Set 7 | husavik\nProcessing Record 7 of Set 7 | lubana\nProcessing Record 8 of Set 7 | balagansk\nProcessing Record 9 of Set 7 | san patricio\nProcessing Record 10 of Set 7 | te anau\nProcessing Record 11 of Set 7 | barbar\nCity not found. Skipping...\nProcessing Record 12 of Set 7 | saint-pierre\nProcessing Record 13 of Set 7 | nizhniy tsasuchey\nProcessing Record 14 of Set 7 | grand river south east\nCity not found. Skipping...\nProcessing Record 15 of Set 7 | broken hill\nProcessing Record 16 of Set 7 | bagasara\nCity not found. Skipping...\nProcessing Record 17 of Set 7 | ust-ishim\nProcessing Record 18 of Set 7 | voyvozh\nProcessing Record 19 of Set 7 | okha\nProcessing Record 20 of Set 7 | nouakchott\nProcessing Record 21 of Set 7 | isabela\nProcessing Record 22 of Set 7 | waterford\nProcessing Record 23 of Set 7 | basco\nProcessing Record 24 of Set 7 | ode\nProcessing Record 25 of Set 7 | lagoa\nProcessing Record 26 of Set 7 | pierre\nProcessing Record 27 of Set 7 | nago\nProcessing Record 28 of Set 7 | westport\nProcessing Record 29 of Set 7 | cap malheureux\nProcessing Record 30 of Set 7 | gijon\nProcessing Record 31 of Set 7 | nome\nProcessing Record 32 of Set 7 | skalistyy\nCity not found. Skipping...\nProcessing Record 33 of Set 7 | shumikhinskiy\nProcessing Record 34 of Set 7 | falealupo\nCity not found. Skipping...\nProcessing Record 35 of Set 7 | skagastrond\nCity not found. Skipping...\nProcessing Record 36 of Set 7 | kasongo\nProcessing Record 37 of Set 7 | omsukchan\nProcessing Record 38 of Set 7 | rafai\nProcessing Record 39 of Set 7 | rocha\nProcessing Record 40 of Set 7 | riobamba\nProcessing Record 41 of Set 7 | comodoro rivadavia\nProcessing Record 42 of Set 7 | gat\nProcessing Record 43 of Set 7 | andselv\nCity not found. Skipping...\nProcessing Record 44 of Set 7 | ojinaga\nProcessing Record 45 of Set 7 | nadbai\nProcessing Record 46 of Set 7 | porto santo\nProcessing Record 47 of Set 7 | ghatanji\nProcessing Record 48 of Set 7 | carutapera\nProcessing Record 49 of Set 7 | urdzhar\nCity not found. Skipping...\nProcessing Record 50 of Set 7 | beringovskiy\nProcessing Record 1 of Set 8 | riyadh\nProcessing Record 2 of Set 8 | alyangula\nProcessing Record 3 of Set 8 | cockburn town\nProcessing Record 4 of Set 8 | grammichele\nProcessing Record 5 of Set 8 | zhigansk\nProcessing Record 6 of Set 8 | yangambi\nProcessing Record 7 of Set 8 | chapadinha\nProcessing Record 8 of Set 8 | mahon\nProcessing Record 9 of Set 8 | manado\nProcessing Record 10 of Set 8 | ostrowiec swietokrzyski\nProcessing Record 11 of Set 8 | bolungarvik\nCity not found. Skipping...\nProcessing Record 12 of Set 8 | nishihara\nProcessing Record 13 of Set 8 | singaraja\nProcessing Record 14 of Set 8 | torbay\nProcessing Record 15 of Set 8 | opuwo\nProcessing Record 16 of Set 8 | pundaguitan\nProcessing Record 17 of Set 8 | isangel\nProcessing Record 18 of Set 8 | zhaotong\nProcessing Record 19 of Set 8 | belaya kholunitsa\nProcessing Record 20 of Set 8 | kamenskoye\nCity not found. Skipping...\nProcessing Record 21 of Set 8 | trollhattan\nProcessing Record 22 of Set 8 | morro bay\nProcessing Record 23 of Set 8 | alugan\nProcessing Record 24 of Set 8 | high level\nProcessing Record 25 of Set 8 | oranjemund\nProcessing Record 26 of Set 8 | odessa\nProcessing Record 27 of Set 8 | victor harbor\nProcessing Record 28 of Set 8 | pasni\nProcessing Record 29 of Set 8 | ampanihy\nProcessing Record 30 of Set 8 | kununurra\nProcessing Record 31 of Set 8 | salinas\nProcessing Record 32 of Set 8 | kokkola\nProcessing Record 33 of Set 8 | kieta\nProcessing Record 34 of Set 8 | marcona\nCity not found. Skipping...\nProcessing Record 35 of Set 8 | sasebo\nProcessing Record 36 of Set 8 | nemuro\nProcessing Record 37 of Set 8 | pangoa\nProcessing Record 38 of Set 8 | tumannyy\nCity not found. Skipping...\nProcessing Record 39 of Set 8 | viedma\nProcessing Record 40 of Set 8 | inuvik\nProcessing Record 41 of Set 8 | kadykchan\nCity not found. Skipping...\nProcessing Record 42 of Set 8 | warqla\nCity not found. Skipping...\nProcessing Record 43 of Set 8 | nyrob\nProcessing Record 44 of Set 8 | meulaboh\nProcessing Record 45 of Set 8 | sorvag\nCity not found. Skipping...\nProcessing Record 46 of Set 8 | joao pinheiro\nProcessing Record 47 of Set 8 | vestmanna\nProcessing Record 48 of Set 8 | nuuk\nProcessing Record 49 of Set 8 | borlange\nCity not found. Skipping...\nProcessing Record 50 of Set 8 | waipawa\nProcessing Record 1 of Set 9 | puerto escondido\nProcessing Record 2 of Set 9 | geresk\nCity not found. Skipping...\nProcessing Record 3 of Set 9 | maceio\nProcessing Record 4 of Set 9 | namatanai\nProcessing Record 5 of Set 9 | changli\nProcessing Record 6 of Set 9 | necochea\nProcessing Record 7 of Set 9 | progreso\nProcessing Record 8 of Set 9 | grand-santi\nProcessing Record 9 of Set 9 | hit\nProcessing Record 10 of Set 9 | ekibastuz\nProcessing Record 11 of Set 9 | kankon\nProcessing Record 12 of Set 9 | yumen\nProcessing Record 13 of Set 9 | mocuba\nProcessing Record 14 of Set 9 | mys shmidta\nCity not found. Skipping...\nProcessing Record 15 of Set 9 | tabat\nProcessing Record 16 of Set 9 | nurota\nProcessing Record 17 of Set 9 | dinghai\nProcessing Record 18 of Set 9 | jaciara\nProcessing Record 19 of Set 9 | marsh harbour\nProcessing Record 20 of Set 9 | provideniya\nProcessing Record 21 of Set 9 | ahipara\nProcessing Record 22 of Set 9 | madimba\nProcessing Record 23 of Set 9 | bundaberg\nProcessing Record 24 of Set 9 | leningradskiy\nProcessing Record 25 of Set 9 | karaul\nCity not found. Skipping...\nProcessing Record 26 of Set 9 | san quintin\nProcessing Record 27 of Set 9 | tanout\nProcessing Record 28 of Set 9 | mogadishu\nProcessing Record 29 of Set 9 | andenes\nProcessing Record 30 of Set 9 | stornoway\nProcessing Record 31 of Set 9 | salekhard\nProcessing Record 32 of Set 9 | chicama\nProcessing Record 33 of Set 9 | roald\nProcessing Record 34 of Set 9 | lagos\nProcessing Record 35 of Set 9 | pietersburg\nProcessing Record 36 of Set 9 | punta alta\nProcessing Record 37 of Set 9 | gizo\nProcessing Record 38 of Set 9 | nueva loja\nProcessing Record 39 of Set 9 | nukus\nProcessing Record 40 of Set 9 | klaksvik\nProcessing Record 41 of Set 9 | magalia\nProcessing Record 42 of Set 9 | schwerin\nProcessing Record 43 of Set 9 | katha\nCity not found. Skipping...\nProcessing Record 44 of Set 9 | half moon bay\nProcessing Record 45 of Set 9 | rurrenabaque\nProcessing Record 46 of Set 9 | waingapu\nProcessing Record 47 of Set 9 | cooma\nProcessing Record 48 of Set 9 | jamame\nProcessing Record 49 of Set 9 | calvinia\nProcessing Record 50 of Set 9 | burica\nCity not found. Skipping...\nProcessing Record 1 of Set 10 | solsvik\nCity not found. Skipping...\nProcessing Record 2 of Set 10 | lavrentiya\nProcessing Record 3 of Set 10 | ust-koksa\nProcessing Record 4 of Set 10 | san jose\nProcessing Record 5 of Set 10 | malpe\nProcessing Record 6 of Set 10 | bikaner\nProcessing Record 7 of Set 10 | hami\nProcessing Record 8 of Set 10 | saint george\nProcessing Record 9 of Set 10 | lesu\nProcessing Record 10 of Set 10 | vanimo\nProcessing Record 11 of Set 10 | ugoofaaru\nProcessing Record 12 of Set 10 | mareeba\nProcessing Record 13 of Set 10 | fairbanks\nProcessing Record 14 of Set 10 | ormond beach\nProcessing Record 15 of Set 10 | lasa\nProcessing Record 16 of Set 10 | san alberto\nProcessing Record 17 of Set 10 | coahuayana\nProcessing Record 18 of Set 10 | ravar\nProcessing Record 19 of Set 10 | labuhan\nProcessing Record 20 of Set 10 | talnakh\nProcessing Record 21 of Set 10 | nizhneyansk\nCity not found. Skipping...\nProcessing Record 22 of Set 10 | raymond\nProcessing Record 23 of Set 10 | andevoranto\nCity not found. Skipping...\nProcessing Record 24 of Set 10 | riohacha\nProcessing Record 25 of Set 10 | talaya\nProcessing Record 26 of Set 10 | petropavlovsk-kamchatskiy\nProcessing Record 27 of Set 10 | turukhansk\nProcessing Record 28 of Set 10 | tura\nProcessing Record 29 of Set 10 | mankapur\nProcessing Record 30 of Set 10 | hay river\nProcessing Record 31 of Set 10 | olinda\nProcessing Record 32 of Set 10 | morondava\nProcessing Record 33 of Set 10 | usinsk\nProcessing Record 34 of Set 10 | santa rosa\nProcessing Record 35 of Set 10 | calamar\nProcessing Record 36 of Set 10 | carlsbad\nProcessing Record 37 of Set 10 | kulhudhuffushi\nProcessing Record 38 of Set 10 | kharan\nProcessing Record 39 of Set 10 | port macquarie\nProcessing Record 40 of Set 10 | alexandria\nProcessing Record 41 of Set 10 | kirakira\nProcessing Record 42 of Set 10 | isla vista\nProcessing Record 43 of Set 10 | ostrovnoy\nProcessing Record 44 of Set 10 | bandarbeyla\nProcessing Record 45 of Set 10 | alice springs\nProcessing Record 46 of Set 10 | erenhot\nProcessing Record 47 of Set 10 | keroka\nProcessing Record 48 of Set 10 | utiroa\nCity not found. Skipping...\nProcessing Record 49 of Set 10 | gladstone\nProcessing Record 50 of Set 10 | paracuru\nProcessing Record 1 of Set 11 | mankera\nProcessing Record 2 of Set 11 | at-bashi\nProcessing Record 3 of Set 11 | guadalupe y calvo\nProcessing Record 4 of Set 11 | red wing\nProcessing Record 5 of Set 11 | kirovskiy\nProcessing Record 6 of Set 11 | formoso do araguaia\nCity not found. Skipping...\nProcessing Record 7 of Set 11 | bolu\nProcessing Record 8 of Set 11 | severo-yeniseyskiy\nProcessing Record 9 of Set 11 | tchaourou\nProcessing Record 10 of Set 11 | najran\nProcessing Record 11 of Set 11 | wuzhou\nProcessing Record 12 of Set 11 | cheuskiny\nCity not found. Skipping...\nProcessing Record 13 of Set 11 | ayacucho\nProcessing Record 14 of Set 11 | langxiang\nProcessing Record 15 of Set 11 | ucluelet\nProcessing Record 16 of Set 11 | faya\nProcessing Record 17 of Set 11 | livingston\nProcessing Record 18 of Set 11 | bulawayo\nProcessing Record 19 of Set 11 | altamira\nProcessing Record 20 of Set 11 | pangody\nProcessing Record 21 of Set 11 | qafsah\nCity not found. Skipping...\nProcessing Record 22 of Set 11 | tzintzuntzan\nProcessing Record 23 of Set 11 | aketi\nProcessing Record 24 of Set 11 | mattru\nProcessing Record 25 of Set 11 | honningsvag\nProcessing Record 26 of Set 11 | cockburn harbour\nCity not found. Skipping...\nProcessing Record 27 of Set 11 | batticaloa\nProcessing Record 28 of Set 11 | solovetskiy\nCity not found. Skipping...\nProcessing Record 29 of Set 11 | kuldiga\nProcessing Record 30 of Set 11 | pasighat\nProcessing Record 31 of Set 11 | imbituba\nProcessing Record 32 of Set 11 | serebryansk\nProcessing Record 33 of Set 11 | temaraia\nCity not found. Skipping...\nProcessing Record 34 of Set 11 | piranhas\nProcessing Record 35 of Set 11 | manicore\nProcessing Record 36 of Set 11 | cayenne\nProcessing Record 37 of Set 11 | djambala\nProcessing Record 38 of Set 11 | acarau\nProcessing Record 39 of Set 11 | shubarshi\nProcessing Record 40 of Set 11 | mrirt\nCity not found. Skipping...\nProcessing Record 41 of Set 11 | singkawang\nProcessing Record 42 of Set 11 | ravanusa\nProcessing Record 43 of Set 11 | nalut\nProcessing Record 44 of Set 11 | canada\nProcessing Record 45 of Set 11 | camacupa\nProcessing Record 46 of Set 11 | chihuahua\nProcessing Record 47 of Set 11 | gidam\nProcessing Record 48 of Set 11 | myitkyina\nProcessing Record 49 of Set 11 | minsk\nProcessing Record 50 of Set 11 | ambilobe\nProcessing Record 1 of Set 12 | nicoya\nProcessing Record 2 of Set 12 | puerto ayacucho\nProcessing Record 3 of Set 12 | acapulco\nProcessing Record 4 of Set 12 | pindiga\nProcessing Record 5 of Set 12 | nyurba\nProcessing Record 6 of Set 12 | lethem\nProcessing Record 7 of Set 12 | iqaluit\nProcessing Record 8 of Set 12 | mao\nProcessing Record 9 of Set 12 | angra dos reis\nProcessing Record 10 of Set 12 | lagunas\nProcessing Record 11 of Set 12 | kesova gora\nProcessing Record 12 of Set 12 | tazovskiy\nProcessing Record 13 of Set 12 | sawtell\nProcessing Record 14 of Set 12 | sakakah\nProcessing Record 15 of Set 12 | sambava\nProcessing Record 16 of Set 12 | rosario\nProcessing Record 17 of Set 12 | santa maria\nProcessing Record 18 of Set 12 | zhuhai\nProcessing Record 19 of Set 12 | ayan\nProcessing Record 20 of Set 12 | yaan\nProcessing Record 21 of Set 12 | pozo colorado\nProcessing Record 22 of Set 12 | yar-sale\nProcessing Record 23 of Set 12 | lorengau\nProcessing Record 24 of Set 12 | chifeng\nProcessing Record 25 of Set 12 | kyabram\nProcessing Record 26 of Set 12 | warri\nProcessing Record 27 of Set 12 | edd\nProcessing Record 28 of Set 12 | idah\nProcessing Record 29 of Set 12 | mocambique\nCity not found. Skipping...\nProcessing Record 30 of Set 12 | vila velha\nProcessing Record 31 of Set 12 | piranshahr\nProcessing Record 32 of Set 12 | masindi\nProcessing Record 33 of Set 12 | guerrero negro\nProcessing Record 34 of Set 12 | teberda\nProcessing Record 35 of Set 12 | martinesti\nProcessing Record 36 of Set 12 | tirumakudal narsipur\nProcessing Record 37 of Set 12 | russell\nProcessing Record 38 of Set 12 | juifang\nCity not found. Skipping...\nProcessing Record 39 of Set 12 | ust-barguzin\nProcessing Record 40 of Set 12 | mentok\nCity not found. Skipping...\nProcessing Record 41 of Set 12 | saint-leu\nProcessing Record 42 of Set 12 | masuguru\nProcessing Record 43 of Set 12 | palaikastron\nProcessing Record 44 of Set 12 | karauzyak\nCity not found. Skipping...\nProcessing Record 45 of Set 12 | karakol\nProcessing Record 46 of Set 12 | ozernovskiy\nProcessing Record 47 of Set 12 | ponca city\nProcessing Record 48 of Set 12 | youkounkoun\nProcessing Record 49 of Set 12 | coihaique\nProcessing Record 50 of Set 12 | vardo\nProcessing Record 1 of Set 13 | shebunino\nProcessing Record 2 of Set 13 | jiancheng\nProcessing Record 3 of Set 13 | banjar\nProcessing Record 4 of Set 13 | sioux lookout\nProcessing Record 5 of Set 13 | dera din panah\nCity not found. Skipping...\nProcessing Record 6 of Set 13 | myre\nProcessing Record 7 of Set 13 | griffith\nProcessing Record 8 of Set 13 | athabasca\nProcessing Record 9 of Set 13 | aquin\nProcessing Record 10 of Set 13 | shediac\nProcessing Record 11 of Set 13 | cizre\nProcessing Record 12 of Set 13 | aswan\nProcessing Record 13 of Set 13 | luena\nProcessing Record 14 of Set 13 | ouadda\nProcessing Record 15 of Set 13 | mormugao\nProcessing Record 16 of Set 13 | caravelas\nProcessing Record 17 of Set 13 | jatai\nProcessing Record 18 of Set 13 | poum\nProcessing Record 19 of Set 13 | biak\nProcessing Record 20 of Set 13 | kazalinsk\nCity not found. Skipping...\nProcessing Record 21 of Set 13 | natal\nProcessing Record 22 of Set 13 | sikasso\nProcessing Record 23 of Set 13 | tres lagoas\nProcessing Record 24 of Set 13 | polyarnyy\nProcessing Record 25 of Set 13 | mortka\nProcessing Record 26 of Set 13 | paamiut\nProcessing Record 27 of Set 13 | matay\nProcessing Record 28 of Set 13 | rosarito\nProcessing Record 29 of Set 13 | boden\nProcessing Record 30 of Set 13 | parkes\nProcessing Record 31 of Set 13 | kondinskoye\nProcessing Record 32 of Set 13 | saint-paul\nProcessing Record 33 of Set 13 | dongying\nProcessing Record 34 of Set 13 | santa clara\nProcessing Record 35 of Set 13 | cloquet\nProcessing Record 36 of Set 13 | bam\nProcessing Record 37 of Set 13 | sulangan\nProcessing Record 38 of Set 13 | ahuimanu\nProcessing Record 39 of Set 13 | chagda\nCity not found. Skipping...\nProcessing Record 40 of Set 13 | raton\nProcessing Record 41 of Set 13 | tarko-sale\nProcessing Record 42 of Set 13 | ustrzyki dolne\nProcessing Record 43 of Set 13 | abha\nProcessing Record 44 of Set 13 | sayansk\nProcessing Record 45 of Set 13 | petrovsk-zabaykalskiy\nProcessing Record 46 of Set 13 | mugumu\nProcessing Record 47 of Set 13 | koslan\nProcessing Record 48 of Set 13 | huaraz\nProcessing Record 49 of Set 13 | constitucion\nProcessing Record 50 of Set 13 | ormara\nProcessing Record 1 of Set 14 | sun city west\nProcessing Record 2 of Set 14 | yatou\n-----------------------------\nData Retrieval Complete      \n-----------------------------\n"
    }
   ],
   "source": [
    "# Create an empty list to hold the weather data.\n",
    "city_data = []\n",
    "# Print the beginning of the logging.\n",
    "print(\"Beginning Data Retrieval     \")\n",
    "print(\"-----------------------------\")\n",
    "\n",
    "# Create counters.\n",
    "record_count = 1\n",
    "set_count = 1\n",
    "\n",
    "# Loop through all the cities in the list.\n",
    "for i, city in enumerate(cities):\n",
    "\n",
    "    # Group cities in sets of 50 for logging purposes.\n",
    "    if (i % 50 == 0 and i >= 50):\n",
    "        set_count += 1\n",
    "        record_count = 1\n",
    "    # Create endpoint URL with each city.\n",
    "    city_url = url + \"&q=\" + city.replace(\" \",\"+\")\n",
    "\n",
    "    # Log the URL, record, and set numbers and the city.\n",
    "    print(f\"Processing Record {record_count} of Set {set_count} | {city}\")\n",
    "    # Add 1 to the record count.\n",
    "    record_count += 1\n",
    "\n",
    "    # Run an API request for each of the cities.\n",
    "    try:\n",
    "        # Parse the JSON and retrieve data.\n",
    "        city_weather = requests.get(city_url).json()\n",
    "        # Parse out the needed data.\n",
    "        city_lat = city_weather[\"coord\"][\"lat\"]\n",
    "        city_lng = city_weather[\"coord\"][\"lon\"]\n",
    "        city_max_temp = city_weather[\"main\"][\"temp_max\"]\n",
    "        city_humidity = city_weather[\"main\"][\"humidity\"]\n",
    "        city_clouds = city_weather[\"clouds\"][\"all\"]\n",
    "        city_wind = city_weather[\"wind\"][\"speed\"]\n",
    "        city_country = city_weather[\"sys\"][\"country\"]\n",
    "        # Convert the date to ISO standard.\n",
    "        city_date = datetime.utcfromtimestamp(city_weather[\"dt\"]).strftime('%Y-%m-%d %H:%M:%S')\n",
    "        # Append the city information into city_data list.\n",
    "        city_data.append({\"City\": city.title(),\n",
    "                          \"Lat\": city_lat,\n",
    "                          \"Lng\": city_lng,\n",
    "                          \"Max Temp\": city_max_temp,\n",
    "                          \"Humidity\": city_humidity,\n",
    "                          \"Cloudiness\": city_clouds,\n",
    "                          \"Wind Speed\": city_wind,\n",
    "                          \"Country\": city_country,\n",
    "                          \"Date\": city_date})\n",
    "\n",
    "# If an error is experienced, skip the city.\n",
    "    except:\n",
    "        print(\"City not found. Skipping...\")\n",
    "        pass\n",
    "\n",
    "# Indicate that Data Loading is complete.\n",
    "print(\"-----------------------------\")\n",
    "print(\"Data Retrieval Complete      \")\n",
    "print(\"-----------------------------\")"
   ]
  },
  {
   "cell_type": "code",
   "execution_count": 15,
   "metadata": {},
   "outputs": [
    {
     "output_type": "execute_result",
     "data": {
      "text/plain": "595"
     },
     "metadata": {},
     "execution_count": 15
    }
   ],
   "source": [
    "len(city_data)"
   ]
  },
  {
   "cell_type": "code",
   "execution_count": 20,
   "metadata": {},
   "outputs": [
    {
     "output_type": "execute_result",
     "data": {
      "text/plain": "              City Country                 Date    Lat     Lng  Max Temp  \\\n0   Ribeira Grande      PT  2020-07-05 04:09:20  38.52  -28.70     68.81   \n1       Nouadhibou      MR  2020-07-05 04:09:20  20.93  -17.03     71.60   \n2           Mehamn      NO  2020-07-05 04:09:20  71.04   27.85     45.19   \n3          Rikitea      PF  2020-07-05 04:09:20 -23.12 -134.97     71.94   \n4  Arraial Do Cabo      BR  2020-07-05 04:09:20 -22.97  -42.03     69.89   \n5          Mataura      NZ  2020-07-05 04:09:20 -46.19  168.86     48.40   \n6        Grindavik      IS  2020-07-05 04:09:21  63.84  -22.43     46.40   \n7            Adrar      MR  2020-07-05 04:09:21  20.50  -10.07     94.44   \n8         Thompson      CA  2020-07-05 04:07:59  55.74  -97.86     71.60   \n9       Zyryanovsk      KZ  2020-07-05 04:09:21  49.74   84.27     69.31   \n\n   Humidity  Cloudiness  Wind Speed  \n0        86         100        4.94  \n1        78           4       25.28  \n2        87         100        5.88  \n3        73           1       13.33  \n4        82          21       21.90  \n5        94         100        1.59  \n6       100          40        8.05  \n7        10           0        8.43  \n8        64          75        2.84  \n9        53          10        5.37  ",
      "text/html": "<div>\n<style scoped>\n    .dataframe tbody tr th:only-of-type {\n        vertical-align: middle;\n    }\n\n    .dataframe tbody tr th {\n        vertical-align: top;\n    }\n\n    .dataframe thead th {\n        text-align: right;\n    }\n</style>\n<table border=\"1\" class=\"dataframe\">\n  <thead>\n    <tr style=\"text-align: right;\">\n      <th></th>\n      <th>City</th>\n      <th>Country</th>\n      <th>Date</th>\n      <th>Lat</th>\n      <th>Lng</th>\n      <th>Max Temp</th>\n      <th>Humidity</th>\n      <th>Cloudiness</th>\n      <th>Wind Speed</th>\n    </tr>\n  </thead>\n  <tbody>\n    <tr>\n      <td>0</td>\n      <td>Ribeira Grande</td>\n      <td>PT</td>\n      <td>2020-07-05 04:09:20</td>\n      <td>38.52</td>\n      <td>-28.70</td>\n      <td>68.81</td>\n      <td>86</td>\n      <td>100</td>\n      <td>4.94</td>\n    </tr>\n    <tr>\n      <td>1</td>\n      <td>Nouadhibou</td>\n      <td>MR</td>\n      <td>2020-07-05 04:09:20</td>\n      <td>20.93</td>\n      <td>-17.03</td>\n      <td>71.60</td>\n      <td>78</td>\n      <td>4</td>\n      <td>25.28</td>\n    </tr>\n    <tr>\n      <td>2</td>\n      <td>Mehamn</td>\n      <td>NO</td>\n      <td>2020-07-05 04:09:20</td>\n      <td>71.04</td>\n      <td>27.85</td>\n      <td>45.19</td>\n      <td>87</td>\n      <td>100</td>\n      <td>5.88</td>\n    </tr>\n    <tr>\n      <td>3</td>\n      <td>Rikitea</td>\n      <td>PF</td>\n      <td>2020-07-05 04:09:20</td>\n      <td>-23.12</td>\n      <td>-134.97</td>\n      <td>71.94</td>\n      <td>73</td>\n      <td>1</td>\n      <td>13.33</td>\n    </tr>\n    <tr>\n      <td>4</td>\n      <td>Arraial Do Cabo</td>\n      <td>BR</td>\n      <td>2020-07-05 04:09:20</td>\n      <td>-22.97</td>\n      <td>-42.03</td>\n      <td>69.89</td>\n      <td>82</td>\n      <td>21</td>\n      <td>21.90</td>\n    </tr>\n    <tr>\n      <td>5</td>\n      <td>Mataura</td>\n      <td>NZ</td>\n      <td>2020-07-05 04:09:20</td>\n      <td>-46.19</td>\n      <td>168.86</td>\n      <td>48.40</td>\n      <td>94</td>\n      <td>100</td>\n      <td>1.59</td>\n    </tr>\n    <tr>\n      <td>6</td>\n      <td>Grindavik</td>\n      <td>IS</td>\n      <td>2020-07-05 04:09:21</td>\n      <td>63.84</td>\n      <td>-22.43</td>\n      <td>46.40</td>\n      <td>100</td>\n      <td>40</td>\n      <td>8.05</td>\n    </tr>\n    <tr>\n      <td>7</td>\n      <td>Adrar</td>\n      <td>MR</td>\n      <td>2020-07-05 04:09:21</td>\n      <td>20.50</td>\n      <td>-10.07</td>\n      <td>94.44</td>\n      <td>10</td>\n      <td>0</td>\n      <td>8.43</td>\n    </tr>\n    <tr>\n      <td>8</td>\n      <td>Thompson</td>\n      <td>CA</td>\n      <td>2020-07-05 04:07:59</td>\n      <td>55.74</td>\n      <td>-97.86</td>\n      <td>71.60</td>\n      <td>64</td>\n      <td>75</td>\n      <td>2.84</td>\n    </tr>\n    <tr>\n      <td>9</td>\n      <td>Zyryanovsk</td>\n      <td>KZ</td>\n      <td>2020-07-05 04:09:21</td>\n      <td>49.74</td>\n      <td>84.27</td>\n      <td>69.31</td>\n      <td>53</td>\n      <td>10</td>\n      <td>5.37</td>\n    </tr>\n  </tbody>\n</table>\n</div>"
     },
     "metadata": {},
     "execution_count": 20
    }
   ],
   "source": [
    "# Collect the following data from the JSON file and add it to a DataFrame:\n",
    "\n",
    "# Convert the array of dictionaries to a Pandas DataFrame.\n",
    "city_data_df = pd.DataFrame(city_data)\n",
    "\n",
    "new_column_order = [\"City\", \"Country\", \"Date\", \"Lat\", \"Lng\", \"Max Temp\", \"Humidity\", \"Cloudiness\", \"Wind Speed\"]\n",
    "city_data_df = city_data_df[new_column_order]\n",
    "city_data_df.head(10)\n",
    "# City, country, and date\n",
    "# Latitude and longitude\n",
    "# Maximum temperature\n",
    "# Humidity\n",
    "# Cloudiness\n",
    "# Wind speed"
   ]
  },
  {
   "cell_type": "code",
   "execution_count": 21,
   "metadata": {},
   "outputs": [],
   "source": [
    "# Create the output file (CSV).\n",
    "output_data_file = \"weather_data/cities.csv\"\n",
    "# Export the City_Data into a CSV.\n",
    "city_data_df.to_csv(output_data_file, index_label=\"City_ID\")"
   ]
  },
  {
   "cell_type": "code",
   "execution_count": 8,
   "metadata": {},
   "outputs": [],
   "source": [
    "# Exploratory Analysis with visualization"
   ]
  },
  {
   "cell_type": "code",
   "execution_count": 9,
   "metadata": {},
   "outputs": [],
   "source": [
    "# Create scatter plots of the weather data for the following comparisons:\n",
    "\n",
    "# Latitude versus temperature\n",
    "# Latitude versus humidity\n",
    "# Latitude versus cloudiness\n",
    "# Latitude versus wind speed"
   ]
  },
  {
   "cell_type": "code",
   "execution_count": 10,
   "metadata": {},
   "outputs": [],
   "source": [
    "# Determine the correlations for the following weather data:\n",
    "\n",
    "# Latitude and temperature\n",
    "# Latitude and humidity\n",
    "# Latitude and cloudiness\n",
    "# Latitude and wind speed"
   ]
  },
  {
   "cell_type": "code",
   "execution_count": 11,
   "metadata": {},
   "outputs": [],
   "source": [
    "# Create a series of heatmaps using the Google Maps and Places API that showcases the following:\n",
    "\n",
    "# Latitude and temperature\n",
    "# Latitude and humidity\n",
    "# Latitude and cloudiness\n",
    "# Latitude and wind speed"
   ]
  },
  {
   "cell_type": "code",
   "execution_count": 12,
   "metadata": {},
   "outputs": [],
   "source": [
    "# Visualize Travel Data"
   ]
  },
  {
   "cell_type": "code",
   "execution_count": 13,
   "metadata": {},
   "outputs": [],
   "source": [
    "# Create a heatmap with pop-up markers that can display information on specific cities based on a customer’s travel preferences. Complete these steps:\n",
    "\n",
    "# Filter the Pandas DataFrame based on user inputs for a minimum and maximum temperature.\n",
    "# Create a heatmap for the new DataFrame.\n",
    "# Find a hotel from the cities’ coordinates using Google’s Maps and Places API, and Search Nearby feature.\n",
    "# Store the name of the first hotel in the DataFrame.\n",
    "# Add pop-up markers to the heatmap that display information about the city, current maximum temperature, and a hotel in the city."
   ]
  }
 ],
 "metadata": {
  "language_info": {
   "codemirror_mode": {
    "name": "ipython",
    "version": 3
   },
   "file_extension": ".py",
   "mimetype": "text/x-python",
   "name": "python",
   "nbconvert_exporter": "python",
   "pygments_lexer": "ipython3",
   "version": "3.7.4-final"
  },
  "orig_nbformat": 2,
  "kernelspec": {
   "name": "python3",
   "display_name": "Python 3"
  }
 },
 "nbformat": 4,
 "nbformat_minor": 2
}