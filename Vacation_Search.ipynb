{
 "cells": [
  {
   "cell_type": "code",
   "execution_count": 32,
   "metadata": {},
   "outputs": [],
   "source": [
    "# Import dependencies\n",
    "import pandas as pd \n",
    "import gmaps\n",
    "from config import g_key\n",
    "import requests\n",
    "import matplotlib.pyplot as plt"
   ]
  },
  {
   "cell_type": "code",
   "execution_count": 2,
   "metadata": {},
   "outputs": [],
   "source": [
    "# import database that was created from WeatherPy_database portion of challenge\n",
    "import_df = pd.read_csv(\"weather_data/WeatherPy_database.csv\")"
   ]
  },
  {
   "cell_type": "code",
   "execution_count": 3,
   "metadata": {},
   "outputs": [],
   "source": [
    "# Ask the customer to add a minimum and maximum temperature value as well as rain and snow conditions.\n",
    "min_temp = int(input(\"What is the minimum temperature you would like for your trip? \"))\n",
    "max_temp = int(input(\"What is the maximum temperature you would like for your trip? \"))\n",
    "rain_status = input(\"Do you want it to be raining? (yes/no)\")\n",
    "snow_status = input(\"Do you want it to be snowing? (yes/no)\")"
   ]
  },
  {
   "cell_type": "code",
   "execution_count": 10,
   "metadata": {},
   "outputs": [],
   "source": [
    "# set filters using .loc based on the inputs\n",
    "weather_vacation_df = import_df.loc[(import_df['Max Temp'] >= min_temp) & (import_df['Max Temp'] <= max_temp)]\n",
    "\n",
    "if rain_status == \"yes\":\n",
    "    weather_vacation_df = weather_vacation_df[weather_vacation_df[\"Rain (inches)\"] != 0]\n",
    "else:\n",
    "    weather_vacation_df = weather_vacation_df[weather_vacation_df[\"Rain (inches)\"] == 0]\n",
    "     \n",
    "if snow_status == \"yes\":\n",
    "    weather_vacation_df = weather_vacation_df[weather_vacation_df[\"Snow (inches)\"] != 0]\n",
    "else:\n",
    "    weather_vacation_df = weather_vacation_df[weather_vacation_df[\"Snow (inches)\"] == 0]\n",
    "weather_vacation_df = weather_vacation_df.drop(columns=\"Unnamed: 0\")"
   ]
  },
  {
   "cell_type": "code",
   "execution_count": 15,
   "metadata": {},
   "outputs": [
    {
     "output_type": "execute_result",
     "data": {
      "text/plain": "             City Country    Lat     Lng  Max Temp  Humidity  Cloudiness  \\\n11       Linqiong      CN  30.42  103.46     86.00        61          95   \n16         Jasper      US  37.20  -94.35     82.40        65           1   \n21          Laval      CA  45.57  -73.69     78.01        38          40   \n23          Ambon      ID  -3.70  128.18     82.40        78          40   \n27   Kudahuvadhoo      MV   2.67   72.89     84.07        72         100   \n..            ...     ...    ...     ...       ...       ...         ...   \n554           Ati      TD  13.22   18.34     81.72        55          66   \n556        Vostok      RU  46.49  135.88     78.08        43          65   \n557    Wilmington      US  34.23  -77.94     79.00        74           1   \n560     Kalianget      ID  -7.05  113.93     83.71        72          18   \n565   Piney Green      US  34.72  -77.32     79.00        83          20   \n\n     Wind Speed Current Description  Rain (inches)  Snow (inches) Hotel Name  \n11         4.47     overcast clouds            0.0            0.0             \n16         4.70           clear sky            0.0            0.0             \n21         6.93    scattered clouds            0.0            0.0             \n23         5.82    scattered clouds            0.0            0.0             \n27        10.76     overcast clouds            0.0            0.0             \n..          ...                 ...            ...            ...        ...  \n554       12.01       broken clouds            0.0            0.0             \n556        5.39       broken clouds            0.0            0.0             \n557        3.36           clear sky            0.0            0.0             \n560       15.88          few clouds            0.0            0.0             \n565        4.38          few clouds            0.0            0.0             \n\n[159 rows x 12 columns]",
      "text/html": "<div>\n<style scoped>\n    .dataframe tbody tr th:only-of-type {\n        vertical-align: middle;\n    }\n\n    .dataframe tbody tr th {\n        vertical-align: top;\n    }\n\n    .dataframe thead th {\n        text-align: right;\n    }\n</style>\n<table border=\"1\" class=\"dataframe\">\n  <thead>\n    <tr style=\"text-align: right;\">\n      <th></th>\n      <th>City</th>\n      <th>Country</th>\n      <th>Lat</th>\n      <th>Lng</th>\n      <th>Max Temp</th>\n      <th>Humidity</th>\n      <th>Cloudiness</th>\n      <th>Wind Speed</th>\n      <th>Current Description</th>\n      <th>Rain (inches)</th>\n      <th>Snow (inches)</th>\n      <th>Hotel Name</th>\n    </tr>\n  </thead>\n  <tbody>\n    <tr>\n      <td>11</td>\n      <td>Linqiong</td>\n      <td>CN</td>\n      <td>30.42</td>\n      <td>103.46</td>\n      <td>86.00</td>\n      <td>61</td>\n      <td>95</td>\n      <td>4.47</td>\n      <td>overcast clouds</td>\n      <td>0.0</td>\n      <td>0.0</td>\n      <td></td>\n    </tr>\n    <tr>\n      <td>16</td>\n      <td>Jasper</td>\n      <td>US</td>\n      <td>37.20</td>\n      <td>-94.35</td>\n      <td>82.40</td>\n      <td>65</td>\n      <td>1</td>\n      <td>4.70</td>\n      <td>clear sky</td>\n      <td>0.0</td>\n      <td>0.0</td>\n      <td></td>\n    </tr>\n    <tr>\n      <td>21</td>\n      <td>Laval</td>\n      <td>CA</td>\n      <td>45.57</td>\n      <td>-73.69</td>\n      <td>78.01</td>\n      <td>38</td>\n      <td>40</td>\n      <td>6.93</td>\n      <td>scattered clouds</td>\n      <td>0.0</td>\n      <td>0.0</td>\n      <td></td>\n    </tr>\n    <tr>\n      <td>23</td>\n      <td>Ambon</td>\n      <td>ID</td>\n      <td>-3.70</td>\n      <td>128.18</td>\n      <td>82.40</td>\n      <td>78</td>\n      <td>40</td>\n      <td>5.82</td>\n      <td>scattered clouds</td>\n      <td>0.0</td>\n      <td>0.0</td>\n      <td></td>\n    </tr>\n    <tr>\n      <td>27</td>\n      <td>Kudahuvadhoo</td>\n      <td>MV</td>\n      <td>2.67</td>\n      <td>72.89</td>\n      <td>84.07</td>\n      <td>72</td>\n      <td>100</td>\n      <td>10.76</td>\n      <td>overcast clouds</td>\n      <td>0.0</td>\n      <td>0.0</td>\n      <td></td>\n    </tr>\n    <tr>\n      <td>...</td>\n      <td>...</td>\n      <td>...</td>\n      <td>...</td>\n      <td>...</td>\n      <td>...</td>\n      <td>...</td>\n      <td>...</td>\n      <td>...</td>\n      <td>...</td>\n      <td>...</td>\n      <td>...</td>\n      <td>...</td>\n    </tr>\n    <tr>\n      <td>554</td>\n      <td>Ati</td>\n      <td>TD</td>\n      <td>13.22</td>\n      <td>18.34</td>\n      <td>81.72</td>\n      <td>55</td>\n      <td>66</td>\n      <td>12.01</td>\n      <td>broken clouds</td>\n      <td>0.0</td>\n      <td>0.0</td>\n      <td></td>\n    </tr>\n    <tr>\n      <td>556</td>\n      <td>Vostok</td>\n      <td>RU</td>\n      <td>46.49</td>\n      <td>135.88</td>\n      <td>78.08</td>\n      <td>43</td>\n      <td>65</td>\n      <td>5.39</td>\n      <td>broken clouds</td>\n      <td>0.0</td>\n      <td>0.0</td>\n      <td></td>\n    </tr>\n    <tr>\n      <td>557</td>\n      <td>Wilmington</td>\n      <td>US</td>\n      <td>34.23</td>\n      <td>-77.94</td>\n      <td>79.00</td>\n      <td>74</td>\n      <td>1</td>\n      <td>3.36</td>\n      <td>clear sky</td>\n      <td>0.0</td>\n      <td>0.0</td>\n      <td></td>\n    </tr>\n    <tr>\n      <td>560</td>\n      <td>Kalianget</td>\n      <td>ID</td>\n      <td>-7.05</td>\n      <td>113.93</td>\n      <td>83.71</td>\n      <td>72</td>\n      <td>18</td>\n      <td>15.88</td>\n      <td>few clouds</td>\n      <td>0.0</td>\n      <td>0.0</td>\n      <td></td>\n    </tr>\n    <tr>\n      <td>565</td>\n      <td>Piney Green</td>\n      <td>US</td>\n      <td>34.72</td>\n      <td>-77.32</td>\n      <td>79.00</td>\n      <td>83</td>\n      <td>20</td>\n      <td>4.38</td>\n      <td>few clouds</td>\n      <td>0.0</td>\n      <td>0.0</td>\n      <td></td>\n    </tr>\n  </tbody>\n</table>\n<p>159 rows × 12 columns</p>\n</div>"
     },
     "metadata": {},
     "execution_count": 15
    }
   ],
   "source": [
    "weather_vacation_df[\"Hotel Name\"] = \"\"\n",
    "weather_vacation_df"
   ]
  },
  {
   "cell_type": "code",
   "execution_count": 16,
   "metadata": {},
   "outputs": [],
   "source": [
    "# Set parameters to search for a hotel.\n",
    "params = {\n",
    "    \"radius\": 5000,\n",
    "    \"type\": \"lodging\",\n",
    "    \"key\": g_key\n",
    "}"
   ]
  },
  {
   "cell_type": "code",
   "execution_count": 20,
   "metadata": {
    "tags": []
   },
   "outputs": [
    {
     "output_type": "stream",
     "name": "stdout",
     "text": "Hotel not found... skipping.\nHotel not found... skipping.\nHotel not found... skipping.\nHotel not found... skipping.\nHotel not found... skipping.\nHotel not found... skipping.\nHotel not found... skipping.\nHotel not found... skipping.\nHotel not found... skipping.\nHotel not found... skipping.\nHotel not found... skipping.\nHotel not found... skipping.\nHotel not found... skipping.\nHotel not found... skipping.\nHotel not found... skipping.\nHotel not found... skipping.\nHotel not found... skipping.\nHotel not found... skipping.\n"
    }
   ],
   "source": [
    "# Iterate through the DataFrame.\n",
    "for index, row in weather_vacation_df.iterrows():\n",
    "    # Get the latitude and longitude.\n",
    "    lat = row[\"Lat\"]\n",
    "    lng = row[\"Lng\"]\n",
    "\n",
    "    # Add the latitude and longitude to location key for the params dictionary.\n",
    "    params[\"location\"] = f\"{lat},{lng}\"\n",
    "\n",
    "    # Use the search term: \"lodging\" and our latitude and longitude.\n",
    "    base_url = \"https://maps.googleapis.com/maps/api/place/nearbysearch/json\"\n",
    "    # Make request and get the JSON data from the search.\n",
    "    hotels = requests.get(base_url, params=params).json()\n",
    "# Grab the first hotel from the results and store the name.\n",
    "    try:\n",
    "        weather_vacation_df.loc[index, \"Hotel Name\"] = hotels[\"results\"][0][\"name\"]\n",
    "    except (IndexError):\n",
    "        print(\"Hotel not found... skipping.\")"
   ]
  },
  {
   "cell_type": "code",
   "execution_count": 21,
   "metadata": {},
   "outputs": [
    {
     "output_type": "execute_result",
     "data": {
      "text/plain": "             City Country    Lat     Lng  Max Temp  Humidity  Cloudiness  \\\n11       Linqiong      CN  30.42  103.46     86.00        61          95   \n16         Jasper      US  37.20  -94.35     82.40        65           1   \n21          Laval      CA  45.57  -73.69     78.01        38          40   \n23          Ambon      ID  -3.70  128.18     82.40        78          40   \n27   Kudahuvadhoo      MV   2.67   72.89     84.07        72         100   \n..            ...     ...    ...     ...       ...       ...         ...   \n554           Ati      TD  13.22   18.34     81.72        55          66   \n556        Vostok      RU  46.49  135.88     78.08        43          65   \n557    Wilmington      US  34.23  -77.94     79.00        74           1   \n560     Kalianget      ID  -7.05  113.93     83.71        72          18   \n565   Piney Green      US  34.72  -77.32     79.00        83          20   \n\n     Wind Speed Current Description  Rain (inches)  Snow (inches)  \\\n11         4.47     overcast clouds            0.0            0.0   \n16         4.70           clear sky            0.0            0.0   \n21         6.93    scattered clouds            0.0            0.0   \n23         5.82    scattered clouds            0.0            0.0   \n27        10.76     overcast clouds            0.0            0.0   \n..          ...                 ...            ...            ...   \n554       12.01       broken clouds            0.0            0.0   \n556        5.39       broken clouds            0.0            0.0   \n557        3.36           clear sky            0.0            0.0   \n560       15.88          few clouds            0.0            0.0   \n565        4.38          few clouds            0.0            0.0   \n\n                                            Hotel Name  \n11                           Tianlun Tanxianglou Hotel  \n16                                   Guest House Motel  \n21                                Sheraton Laval Hotel  \n23                                Swiss-Belhotel Ambon  \n27                                Kudahuvadhoo Retreat  \n..                                                 ...  \n554                                                     \n556                                                     \n557  Hotel Ballast Wilmington, Tapestry Collection ...  \n560                                 Pesanggrahan Garam  \n565                      Holiday City Mobile Home Park  \n\n[159 rows x 12 columns]",
      "text/html": "<div>\n<style scoped>\n    .dataframe tbody tr th:only-of-type {\n        vertical-align: middle;\n    }\n\n    .dataframe tbody tr th {\n        vertical-align: top;\n    }\n\n    .dataframe thead th {\n        text-align: right;\n    }\n</style>\n<table border=\"1\" class=\"dataframe\">\n  <thead>\n    <tr style=\"text-align: right;\">\n      <th></th>\n      <th>City</th>\n      <th>Country</th>\n      <th>Lat</th>\n      <th>Lng</th>\n      <th>Max Temp</th>\n      <th>Humidity</th>\n      <th>Cloudiness</th>\n      <th>Wind Speed</th>\n      <th>Current Description</th>\n      <th>Rain (inches)</th>\n      <th>Snow (inches)</th>\n      <th>Hotel Name</th>\n    </tr>\n  </thead>\n  <tbody>\n    <tr>\n      <td>11</td>\n      <td>Linqiong</td>\n      <td>CN</td>\n      <td>30.42</td>\n      <td>103.46</td>\n      <td>86.00</td>\n      <td>61</td>\n      <td>95</td>\n      <td>4.47</td>\n      <td>overcast clouds</td>\n      <td>0.0</td>\n      <td>0.0</td>\n      <td>Tianlun Tanxianglou Hotel</td>\n    </tr>\n    <tr>\n      <td>16</td>\n      <td>Jasper</td>\n      <td>US</td>\n      <td>37.20</td>\n      <td>-94.35</td>\n      <td>82.40</td>\n      <td>65</td>\n      <td>1</td>\n      <td>4.70</td>\n      <td>clear sky</td>\n      <td>0.0</td>\n      <td>0.0</td>\n      <td>Guest House Motel</td>\n    </tr>\n    <tr>\n      <td>21</td>\n      <td>Laval</td>\n      <td>CA</td>\n      <td>45.57</td>\n      <td>-73.69</td>\n      <td>78.01</td>\n      <td>38</td>\n      <td>40</td>\n      <td>6.93</td>\n      <td>scattered clouds</td>\n      <td>0.0</td>\n      <td>0.0</td>\n      <td>Sheraton Laval Hotel</td>\n    </tr>\n    <tr>\n      <td>23</td>\n      <td>Ambon</td>\n      <td>ID</td>\n      <td>-3.70</td>\n      <td>128.18</td>\n      <td>82.40</td>\n      <td>78</td>\n      <td>40</td>\n      <td>5.82</td>\n      <td>scattered clouds</td>\n      <td>0.0</td>\n      <td>0.0</td>\n      <td>Swiss-Belhotel Ambon</td>\n    </tr>\n    <tr>\n      <td>27</td>\n      <td>Kudahuvadhoo</td>\n      <td>MV</td>\n      <td>2.67</td>\n      <td>72.89</td>\n      <td>84.07</td>\n      <td>72</td>\n      <td>100</td>\n      <td>10.76</td>\n      <td>overcast clouds</td>\n      <td>0.0</td>\n      <td>0.0</td>\n      <td>Kudahuvadhoo Retreat</td>\n    </tr>\n    <tr>\n      <td>...</td>\n      <td>...</td>\n      <td>...</td>\n      <td>...</td>\n      <td>...</td>\n      <td>...</td>\n      <td>...</td>\n      <td>...</td>\n      <td>...</td>\n      <td>...</td>\n      <td>...</td>\n      <td>...</td>\n      <td>...</td>\n    </tr>\n    <tr>\n      <td>554</td>\n      <td>Ati</td>\n      <td>TD</td>\n      <td>13.22</td>\n      <td>18.34</td>\n      <td>81.72</td>\n      <td>55</td>\n      <td>66</td>\n      <td>12.01</td>\n      <td>broken clouds</td>\n      <td>0.0</td>\n      <td>0.0</td>\n      <td></td>\n    </tr>\n    <tr>\n      <td>556</td>\n      <td>Vostok</td>\n      <td>RU</td>\n      <td>46.49</td>\n      <td>135.88</td>\n      <td>78.08</td>\n      <td>43</td>\n      <td>65</td>\n      <td>5.39</td>\n      <td>broken clouds</td>\n      <td>0.0</td>\n      <td>0.0</td>\n      <td></td>\n    </tr>\n    <tr>\n      <td>557</td>\n      <td>Wilmington</td>\n      <td>US</td>\n      <td>34.23</td>\n      <td>-77.94</td>\n      <td>79.00</td>\n      <td>74</td>\n      <td>1</td>\n      <td>3.36</td>\n      <td>clear sky</td>\n      <td>0.0</td>\n      <td>0.0</td>\n      <td>Hotel Ballast Wilmington, Tapestry Collection ...</td>\n    </tr>\n    <tr>\n      <td>560</td>\n      <td>Kalianget</td>\n      <td>ID</td>\n      <td>-7.05</td>\n      <td>113.93</td>\n      <td>83.71</td>\n      <td>72</td>\n      <td>18</td>\n      <td>15.88</td>\n      <td>few clouds</td>\n      <td>0.0</td>\n      <td>0.0</td>\n      <td>Pesanggrahan Garam</td>\n    </tr>\n    <tr>\n      <td>565</td>\n      <td>Piney Green</td>\n      <td>US</td>\n      <td>34.72</td>\n      <td>-77.32</td>\n      <td>79.00</td>\n      <td>83</td>\n      <td>20</td>\n      <td>4.38</td>\n      <td>few clouds</td>\n      <td>0.0</td>\n      <td>0.0</td>\n      <td>Holiday City Mobile Home Park</td>\n    </tr>\n  </tbody>\n</table>\n<p>159 rows × 12 columns</p>\n</div>"
     },
     "metadata": {},
     "execution_count": 21
    }
   ],
   "source": [
    "weather_vacation_df"
   ]
  },
  {
   "cell_type": "code",
   "execution_count": 27,
   "metadata": {},
   "outputs": [],
   "source": [
    "info_box_template = \"\"\"\n",
    "<dl>\n",
    "<dt><b>Hotel Name</b></dt><dd>{Hotel Name}</dd>\n",
    "<dt><b>City</b></dt><dd>{City}</dd>\n",
    "<dt><b>Country</b></dt><dd>{Country}</dd>\n",
    "<dt><b>Current Weather</b></dt><dd>{Current Description} and {Max Temp} °F</dd></dl>\n",
    "\"\"\""
   ]
  },
  {
   "cell_type": "code",
   "execution_count": 28,
   "metadata": {},
   "outputs": [],
   "source": [
    "weather_vacation_df.to_csv(\"weather_data/WeatherPy_vacation.csv\")"
   ]
  },
  {
   "cell_type": "code",
   "execution_count": 29,
   "metadata": {},
   "outputs": [],
   "source": [
    "# Store the DataFrame Row.\n",
    "hotel_info = [info_box_template.format(**row) for index, row in weather_vacation_df.iterrows()]"
   ]
  },
  {
   "cell_type": "code",
   "execution_count": 39,
   "metadata": {},
   "outputs": [
    {
     "output_type": "display_data",
     "data": {
      "text/plain": "Figure(layout=FigureLayout(height='420px'))",
      "application/vnd.jupyter.widget-view+json": {
       "version_major": 2,
       "version_minor": 0,
       "model_id": "735e91e230a9463fb0d56494d7aa26bb"
      }
     },
     "metadata": {}
    }
   ],
   "source": [
    "# Heatmap of temperature\n",
    "# Get the latitude and longitude.\n",
    "locations = weather_vacation_df[[\"Lat\", \"Lng\"]]\n",
    "# Get the maximum temperature.\n",
    "max_temp = weather_vacation_df[\"Max Temp\"]\n",
    "# Assign the figure variable.\n",
    "fig = gmaps.figure(center=(30.0, 31.0), zoom_level=1.5)\n",
    "heat_layer = gmaps.heatmap_layer(locations, weights=max_temp, \n",
    "             dissipating=False, max_intensity=300, point_radius=4)\n",
    "marker_layer = gmaps.marker_layer(locations, info_box_content=hotel_info)\n",
    "fig.add_layer(heat_layer)\n",
    "fig.add_layer(marker_layer)\n",
    "\n",
    "# Call the figure to plot the data.\n",
    "fig\n"
   ]
  },
  {
   "cell_type": "code",
   "execution_count": 44,
   "metadata": {},
   "outputs": [
    {
     "output_type": "error",
     "ename": "AttributeError",
     "evalue": "'Figure' object has no attribute 'plot'",
     "traceback": [
      "\u001b[0;31m---------------------------------------------------------------------------\u001b[0m",
      "\u001b[0;31mAttributeError\u001b[0m                            Traceback (most recent call last)",
      "\u001b[0;32m<ipython-input-44-2a67aa17692f>\u001b[0m in \u001b[0;36m<module>\u001b[0;34m\u001b[0m\n\u001b[1;32m      1\u001b[0m \u001b[0;31m# Save figure\u001b[0m\u001b[0;34m\u001b[0m\u001b[0;34m\u001b[0m\u001b[0;34m\u001b[0m\u001b[0m\n\u001b[0;32m----> 2\u001b[0;31m \u001b[0mfig\u001b[0m\u001b[0;34m.\u001b[0m\u001b[0mplot\u001b[0m\u001b[0;34m(\u001b[0m\u001b[0;34m)\u001b[0m\u001b[0;34m\u001b[0m\u001b[0;34m\u001b[0m\u001b[0m\n\u001b[0m",
      "\u001b[0;31mAttributeError\u001b[0m: 'Figure' object has no attribute 'plot'"
     ]
    }
   ],
   "source": [
    "# Save figure\n",
    "\n"
   ]
  }
 ],
 "metadata": {
  "language_info": {
   "codemirror_mode": {
    "name": "ipython",
    "version": 3
   },
   "file_extension": ".py",
   "mimetype": "text/x-python",
   "name": "python",
   "nbconvert_exporter": "python",
   "pygments_lexer": "ipython3",
   "version": "3.7.4-final"
  },
  "orig_nbformat": 2,
  "kernelspec": {
   "name": "python3",
   "display_name": "Python 3"
  }
 },
 "nbformat": 4,
 "nbformat_minor": 2
}