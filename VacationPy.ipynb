{
 "cells": [
  {
   "cell_type": "code",
   "execution_count": 1,
   "metadata": {},
   "outputs": [],
   "source": [
    "# Import the dependencies.\n",
    "import pandas as pd\n",
    "import gmaps\n",
    "import requests\n",
    "# Import the API key.\n",
    "from config import g_key"
   ]
  },
  {
   "cell_type": "code",
   "execution_count": 2,
   "metadata": {},
   "outputs": [
    {
     "output_type": "execute_result",
     "data": {
      "text/plain": "   City_ID         City Country                 Date    Lat     Lng  Max Temp  \\\n0        0     Khatanga      RU  2020-07-05 21:30:46  71.97  102.50     50.95   \n1        1    Busselton      AU  2020-07-05 21:28:38 -33.65  115.33     55.00   \n2        2  Tuktoyaktuk      CA  2020-07-05 21:30:46  69.45 -133.04     44.60   \n3        3      Mataura      NZ  2020-07-05 21:30:46 -46.19  168.86     43.59   \n4        4       Barrow      US  2020-07-05 21:30:46  71.29 -156.79     42.80   \n\n   Humidity  Cloudiness  Wind Speed  \n0        61           0       16.44  \n1        83           0       16.64  \n2        87          90       11.41  \n3        94          97        0.83  \n4        70           1       11.41  ",
      "text/html": "<div>\n<style scoped>\n    .dataframe tbody tr th:only-of-type {\n        vertical-align: middle;\n    }\n\n    .dataframe tbody tr th {\n        vertical-align: top;\n    }\n\n    .dataframe thead th {\n        text-align: right;\n    }\n</style>\n<table border=\"1\" class=\"dataframe\">\n  <thead>\n    <tr style=\"text-align: right;\">\n      <th></th>\n      <th>City_ID</th>\n      <th>City</th>\n      <th>Country</th>\n      <th>Date</th>\n      <th>Lat</th>\n      <th>Lng</th>\n      <th>Max Temp</th>\n      <th>Humidity</th>\n      <th>Cloudiness</th>\n      <th>Wind Speed</th>\n    </tr>\n  </thead>\n  <tbody>\n    <tr>\n      <td>0</td>\n      <td>0</td>\n      <td>Khatanga</td>\n      <td>RU</td>\n      <td>2020-07-05 21:30:46</td>\n      <td>71.97</td>\n      <td>102.50</td>\n      <td>50.95</td>\n      <td>61</td>\n      <td>0</td>\n      <td>16.44</td>\n    </tr>\n    <tr>\n      <td>1</td>\n      <td>1</td>\n      <td>Busselton</td>\n      <td>AU</td>\n      <td>2020-07-05 21:28:38</td>\n      <td>-33.65</td>\n      <td>115.33</td>\n      <td>55.00</td>\n      <td>83</td>\n      <td>0</td>\n      <td>16.64</td>\n    </tr>\n    <tr>\n      <td>2</td>\n      <td>2</td>\n      <td>Tuktoyaktuk</td>\n      <td>CA</td>\n      <td>2020-07-05 21:30:46</td>\n      <td>69.45</td>\n      <td>-133.04</td>\n      <td>44.60</td>\n      <td>87</td>\n      <td>90</td>\n      <td>11.41</td>\n    </tr>\n    <tr>\n      <td>3</td>\n      <td>3</td>\n      <td>Mataura</td>\n      <td>NZ</td>\n      <td>2020-07-05 21:30:46</td>\n      <td>-46.19</td>\n      <td>168.86</td>\n      <td>43.59</td>\n      <td>94</td>\n      <td>97</td>\n      <td>0.83</td>\n    </tr>\n    <tr>\n      <td>4</td>\n      <td>4</td>\n      <td>Barrow</td>\n      <td>US</td>\n      <td>2020-07-05 21:30:46</td>\n      <td>71.29</td>\n      <td>-156.79</td>\n      <td>42.80</td>\n      <td>70</td>\n      <td>1</td>\n      <td>11.41</td>\n    </tr>\n  </tbody>\n</table>\n</div>"
     },
     "metadata": {},
     "execution_count": 2
    }
   ],
   "source": [
    "# Store the CSV you saved created in part one into a DataFrame.\n",
    "city_data_df = pd.read_csv(\"weather_data/cities.csv\")\n",
    "city_data_df.head()"
   ]
  },
  {
   "cell_type": "code",
   "execution_count": 3,
   "metadata": {},
   "outputs": [
    {
     "output_type": "execute_result",
     "data": {
      "text/plain": "City_ID         int64\nCity           object\nCountry        object\nDate           object\nLat           float64\nLng           float64\nMax Temp      float64\nHumidity        int64\nCloudiness      int64\nWind Speed    float64\ndtype: object"
     },
     "metadata": {},
     "execution_count": 3
    }
   ],
   "source": [
    "city_data_df.dtypes"
   ]
  },
  {
   "cell_type": "code",
   "execution_count": 4,
   "metadata": {},
   "outputs": [],
   "source": [
    "# Configure gmaps to use your Google API key.\n",
    "gmaps.configure(api_key=g_key)"
   ]
  },
  {
   "cell_type": "code",
   "execution_count": 11,
   "metadata": {},
   "outputs": [
    {
     "output_type": "display_data",
     "data": {
      "text/plain": "Figure(layout=FigureLayout(height='420px'))",
      "application/vnd.jupyter.widget-view+json": {
       "version_major": 2,
       "version_minor": 0,
       "model_id": "c12e6606324c415d9fa1c293f90ff706"
      }
     },
     "metadata": {}
    }
   ],
   "source": [
    "# Heatmap of temperature\n",
    "# Get the latitude and longitude.\n",
    "locations = city_data_df[[\"Lat\", \"Lng\"]]\n",
    "# Get the maximum temperature.\n",
    "max_temp = city_data_df[\"Max Temp\"]\n",
    "# Assign the figure variable.\n",
    "fig = gmaps.figure(center=(30.0, 31.0), zoom_level=1.5)\n",
    "# Get the maximum temperature.\n",
    "max_temp = city_data_df[\"Max Temp\"]\n",
    "# Assign the heatmap variable.\n",
    "heat_layer = gmaps.heatmap_layer(locations, weights=temps, dissipating=False, max_intensity=300, point_radius=4)\n",
    "# Add the heatmap layer.\n",
    "fig.add_layer(heat_layer)\n",
    "# Call the figure to plot the data.\n",
    "fig"
   ]
  },
  {
   "cell_type": "code",
   "execution_count": 12,
   "metadata": {},
   "outputs": [
    {
     "output_type": "display_data",
     "data": {
      "text/plain": "Figure(layout=FigureLayout(height='420px'))",
      "application/vnd.jupyter.widget-view+json": {
       "version_major": 2,
       "version_minor": 0,
       "model_id": "65851a4110c84ee8950b94fbc57eeba8"
      }
     },
     "metadata": {}
    }
   ],
   "source": [
    "# Heatmap of percent humidity\n",
    "locations = city_data_df[[\"Lat\", \"Lng\"]]\n",
    "humidity = city_data_df[\"Humidity\"]\n",
    "fig = gmaps.figure(center=(30.0, 31.0), zoom_level=1.5)\n",
    "heat_layer = gmaps.heatmap_layer(locations, weights=humidity, dissipating=False, max_intensity=300, point_radius=4)\n",
    "\n",
    "fig.add_layer(heat_layer)\n",
    "# Call the figure to plot the data.\n",
    "fig"
   ]
  },
  {
   "cell_type": "code",
   "execution_count": 13,
   "metadata": {},
   "outputs": [
    {
     "output_type": "display_data",
     "data": {
      "text/plain": "Figure(layout=FigureLayout(height='420px'))",
      "application/vnd.jupyter.widget-view+json": {
       "version_major": 2,
       "version_minor": 0,
       "model_id": "5a29f78adb2d4d1c8d725bd57bc70ef1"
      }
     },
     "metadata": {}
    }
   ],
   "source": [
    "# Heatmap of percent cloudiness\n",
    "locations = city_data_df[[\"Lat\", \"Lng\"]]\n",
    "clouds = city_data_df[\"Cloudiness\"]\n",
    "fig = gmaps.figure(center=(30.0, 31.0), zoom_level=1.5)\n",
    "heat_layer = gmaps.heatmap_layer(locations, weights=clouds, dissipating=False, max_intensity=300, point_radius=4)\n",
    "\n",
    "fig.add_layer(heat_layer)\n",
    "# Call the figure to plot the data.\n",
    "fig"
   ]
  },
  {
   "cell_type": "code",
   "execution_count": 14,
   "metadata": {},
   "outputs": [
    {
     "output_type": "display_data",
     "data": {
      "text/plain": "Figure(layout=FigureLayout(height='420px'))",
      "application/vnd.jupyter.widget-view+json": {
       "version_major": 2,
       "version_minor": 0,
       "model_id": "24271f61bce0426ca95c67e850a77350"
      }
     },
     "metadata": {}
    }
   ],
   "source": [
    "# Heatmap of wind speed\n",
    "locations = city_data_df[[\"Lat\", \"Lng\"]]\n",
    "wind = city_data_df[\"Wind Speed\"]\n",
    "fig = gmaps.figure(center=(30.0, 31.0), zoom_level=1.5)\n",
    "heat_layer = gmaps.heatmap_layer(locations, weights=wind, dissipating=False, max_intensity=300, point_radius=4)\n",
    "\n",
    "fig.add_layer(heat_layer)\n",
    "# Call the figure to plot the data.\n",
    "fig"
   ]
  },
  {
   "cell_type": "code",
   "execution_count": 15,
   "metadata": {},
   "outputs": [],
   "source": [
    "# Ask the customer to add a minimum and maximum temperature value.\n",
    "min_temp = float(input(\"What is the minimum temperature you would like for your trip? \"))\n",
    "max_temp = float(input(\"What is the maximum temperature you would like for your trip? \"))"
   ]
  },
  {
   "cell_type": "code",
   "execution_count": 16,
   "metadata": {},
   "outputs": [
    {
     "output_type": "execute_result",
     "data": {
      "text/plain": "    City_ID       City Country                 Date    Lat     Lng  Max Temp  \\\n6         6  Shelburne      CA  2020-07-05 21:30:47  44.08  -80.20     86.00   \n7         7  Boa Vista      BR  2020-07-05 21:29:29   2.82  -60.67     87.80   \n10       10       Hilo      US  2020-07-05 21:29:26  19.73 -155.09     84.20   \n12       12    Mandera      KE  2020-07-05 21:30:48   3.94   41.87     80.76   \n17       17     Neiafu      TO  2020-07-05 21:30:49 -18.65 -173.98     78.80   \n18       18   Kirakira      SB  2020-07-05 21:30:49 -10.45  161.92     80.65   \n27       27       Fare      PF  2020-07-05 21:30:51 -16.70 -151.02     79.41   \n37       37     Atuona      PF  2020-07-05 21:30:53  -9.80 -139.03     79.54   \n41       41    Manaure      CO  2020-07-05 21:30:54  11.78  -72.44     88.05   \n44       44       Hami      CN  2020-07-05 21:30:55  42.80   93.45     80.74   \n\n    Humidity  Cloudiness  Wind Speed  \n6         37           1        6.93  \n7         55          40        8.05  \n10        62          90       10.29  \n12        54          99       23.11  \n17        88          75       10.29  \n18        81         100        9.95  \n27        75           7       16.31  \n37        77          21       21.27  \n41        55          94       15.35  \n44        22          86       24.14  ",
      "text/html": "<div>\n<style scoped>\n    .dataframe tbody tr th:only-of-type {\n        vertical-align: middle;\n    }\n\n    .dataframe tbody tr th {\n        vertical-align: top;\n    }\n\n    .dataframe thead th {\n        text-align: right;\n    }\n</style>\n<table border=\"1\" class=\"dataframe\">\n  <thead>\n    <tr style=\"text-align: right;\">\n      <th></th>\n      <th>City_ID</th>\n      <th>City</th>\n      <th>Country</th>\n      <th>Date</th>\n      <th>Lat</th>\n      <th>Lng</th>\n      <th>Max Temp</th>\n      <th>Humidity</th>\n      <th>Cloudiness</th>\n      <th>Wind Speed</th>\n    </tr>\n  </thead>\n  <tbody>\n    <tr>\n      <td>6</td>\n      <td>6</td>\n      <td>Shelburne</td>\n      <td>CA</td>\n      <td>2020-07-05 21:30:47</td>\n      <td>44.08</td>\n      <td>-80.20</td>\n      <td>86.00</td>\n      <td>37</td>\n      <td>1</td>\n      <td>6.93</td>\n    </tr>\n    <tr>\n      <td>7</td>\n      <td>7</td>\n      <td>Boa Vista</td>\n      <td>BR</td>\n      <td>2020-07-05 21:29:29</td>\n      <td>2.82</td>\n      <td>-60.67</td>\n      <td>87.80</td>\n      <td>55</td>\n      <td>40</td>\n      <td>8.05</td>\n    </tr>\n    <tr>\n      <td>10</td>\n      <td>10</td>\n      <td>Hilo</td>\n      <td>US</td>\n      <td>2020-07-05 21:29:26</td>\n      <td>19.73</td>\n      <td>-155.09</td>\n      <td>84.20</td>\n      <td>62</td>\n      <td>90</td>\n      <td>10.29</td>\n    </tr>\n    <tr>\n      <td>12</td>\n      <td>12</td>\n      <td>Mandera</td>\n      <td>KE</td>\n      <td>2020-07-05 21:30:48</td>\n      <td>3.94</td>\n      <td>41.87</td>\n      <td>80.76</td>\n      <td>54</td>\n      <td>99</td>\n      <td>23.11</td>\n    </tr>\n    <tr>\n      <td>17</td>\n      <td>17</td>\n      <td>Neiafu</td>\n      <td>TO</td>\n      <td>2020-07-05 21:30:49</td>\n      <td>-18.65</td>\n      <td>-173.98</td>\n      <td>78.80</td>\n      <td>88</td>\n      <td>75</td>\n      <td>10.29</td>\n    </tr>\n    <tr>\n      <td>18</td>\n      <td>18</td>\n      <td>Kirakira</td>\n      <td>SB</td>\n      <td>2020-07-05 21:30:49</td>\n      <td>-10.45</td>\n      <td>161.92</td>\n      <td>80.65</td>\n      <td>81</td>\n      <td>100</td>\n      <td>9.95</td>\n    </tr>\n    <tr>\n      <td>27</td>\n      <td>27</td>\n      <td>Fare</td>\n      <td>PF</td>\n      <td>2020-07-05 21:30:51</td>\n      <td>-16.70</td>\n      <td>-151.02</td>\n      <td>79.41</td>\n      <td>75</td>\n      <td>7</td>\n      <td>16.31</td>\n    </tr>\n    <tr>\n      <td>37</td>\n      <td>37</td>\n      <td>Atuona</td>\n      <td>PF</td>\n      <td>2020-07-05 21:30:53</td>\n      <td>-9.80</td>\n      <td>-139.03</td>\n      <td>79.54</td>\n      <td>77</td>\n      <td>21</td>\n      <td>21.27</td>\n    </tr>\n    <tr>\n      <td>41</td>\n      <td>41</td>\n      <td>Manaure</td>\n      <td>CO</td>\n      <td>2020-07-05 21:30:54</td>\n      <td>11.78</td>\n      <td>-72.44</td>\n      <td>88.05</td>\n      <td>55</td>\n      <td>94</td>\n      <td>15.35</td>\n    </tr>\n    <tr>\n      <td>44</td>\n      <td>44</td>\n      <td>Hami</td>\n      <td>CN</td>\n      <td>2020-07-05 21:30:55</td>\n      <td>42.80</td>\n      <td>93.45</td>\n      <td>80.74</td>\n      <td>22</td>\n      <td>86</td>\n      <td>24.14</td>\n    </tr>\n  </tbody>\n</table>\n</div>"
     },
     "metadata": {},
     "execution_count": 16
    }
   ],
   "source": [
    "# Filter the dataset to find the cities that fit the criteria.\n",
    "preferred_cities_df = city_data_df.loc[(city_data_df[\"Max Temp\"] <= max_temp) & \\\n",
    "                                       (city_data_df[\"Max Temp\"] >= min_temp)]\n",
    "preferred_cities_df.head(10)"
   ]
  },
  {
   "cell_type": "code",
   "execution_count": 19,
   "metadata": {},
   "outputs": [
    {
     "output_type": "execute_result",
     "data": {
      "text/plain": "City_ID       204\nCity          204\nCountry       204\nDate          204\nLat           204\nLng           204\nMax Temp      204\nHumidity      204\nCloudiness    204\nWind Speed    204\ndtype: int64"
     },
     "metadata": {},
     "execution_count": 19
    }
   ],
   "source": [
    "preferred_cities_df.count()"
   ]
  },
  {
   "cell_type": "code",
   "execution_count": 20,
   "metadata": {},
   "outputs": [
    {
     "output_type": "execute_result",
     "data": {
      "text/plain": "         City Country  Max Temp    Lat     Lng Hotel Name\n6   Shelburne      CA     86.00  44.08  -80.20           \n7   Boa Vista      BR     87.80   2.82  -60.67           \n10       Hilo      US     84.20  19.73 -155.09           \n12    Mandera      KE     80.76   3.94   41.87           \n17     Neiafu      TO     78.80 -18.65 -173.98           \n18   Kirakira      SB     80.65 -10.45  161.92           \n27       Fare      PF     79.41 -16.70 -151.02           \n37     Atuona      PF     79.54  -9.80 -139.03           \n41    Manaure      CO     88.05  11.78  -72.44           \n44       Hami      CN     80.74  42.80   93.45           ",
      "text/html": "<div>\n<style scoped>\n    .dataframe tbody tr th:only-of-type {\n        vertical-align: middle;\n    }\n\n    .dataframe tbody tr th {\n        vertical-align: top;\n    }\n\n    .dataframe thead th {\n        text-align: right;\n    }\n</style>\n<table border=\"1\" class=\"dataframe\">\n  <thead>\n    <tr style=\"text-align: right;\">\n      <th></th>\n      <th>City</th>\n      <th>Country</th>\n      <th>Max Temp</th>\n      <th>Lat</th>\n      <th>Lng</th>\n      <th>Hotel Name</th>\n    </tr>\n  </thead>\n  <tbody>\n    <tr>\n      <td>6</td>\n      <td>Shelburne</td>\n      <td>CA</td>\n      <td>86.00</td>\n      <td>44.08</td>\n      <td>-80.20</td>\n      <td></td>\n    </tr>\n    <tr>\n      <td>7</td>\n      <td>Boa Vista</td>\n      <td>BR</td>\n      <td>87.80</td>\n      <td>2.82</td>\n      <td>-60.67</td>\n      <td></td>\n    </tr>\n    <tr>\n      <td>10</td>\n      <td>Hilo</td>\n      <td>US</td>\n      <td>84.20</td>\n      <td>19.73</td>\n      <td>-155.09</td>\n      <td></td>\n    </tr>\n    <tr>\n      <td>12</td>\n      <td>Mandera</td>\n      <td>KE</td>\n      <td>80.76</td>\n      <td>3.94</td>\n      <td>41.87</td>\n      <td></td>\n    </tr>\n    <tr>\n      <td>17</td>\n      <td>Neiafu</td>\n      <td>TO</td>\n      <td>78.80</td>\n      <td>-18.65</td>\n      <td>-173.98</td>\n      <td></td>\n    </tr>\n    <tr>\n      <td>18</td>\n      <td>Kirakira</td>\n      <td>SB</td>\n      <td>80.65</td>\n      <td>-10.45</td>\n      <td>161.92</td>\n      <td></td>\n    </tr>\n    <tr>\n      <td>27</td>\n      <td>Fare</td>\n      <td>PF</td>\n      <td>79.41</td>\n      <td>-16.70</td>\n      <td>-151.02</td>\n      <td></td>\n    </tr>\n    <tr>\n      <td>37</td>\n      <td>Atuona</td>\n      <td>PF</td>\n      <td>79.54</td>\n      <td>-9.80</td>\n      <td>-139.03</td>\n      <td></td>\n    </tr>\n    <tr>\n      <td>41</td>\n      <td>Manaure</td>\n      <td>CO</td>\n      <td>88.05</td>\n      <td>11.78</td>\n      <td>-72.44</td>\n      <td></td>\n    </tr>\n    <tr>\n      <td>44</td>\n      <td>Hami</td>\n      <td>CN</td>\n      <td>80.74</td>\n      <td>42.80</td>\n      <td>93.45</td>\n      <td></td>\n    </tr>\n  </tbody>\n</table>\n</div>"
     },
     "metadata": {},
     "execution_count": 20
    }
   ],
   "source": [
    "# Create DataFrame called hotel_df to store hotel names along with city, country, max temp, and coordinates.\n",
    "hotel_df = preferred_cities_df[[\"City\", \"Country\", \"Max Temp\", \"Lat\", \"Lng\"]].copy()\n",
    "hotel_df[\"Hotel Name\"] = \"\"\n",
    "hotel_df.head(10)"
   ]
  },
  {
   "cell_type": "code",
   "execution_count": 21,
   "metadata": {},
   "outputs": [],
   "source": [
    "# Set parameters to search for a hotel.\n",
    "params = {\n",
    "    \"radius\": 5000,\n",
    "    \"type\": \"lodging\",\n",
    "    \"key\": g_key\n",
    "}"
   ]
  },
  {
   "cell_type": "code",
   "execution_count": 23,
   "metadata": {
    "tags": []
   },
   "outputs": [
    {
     "output_type": "stream",
     "name": "stdout",
     "text": "Hotel not found... skipping.\nHotel not found... skipping.\nHotel not found... skipping.\nHotel not found... skipping.\nHotel not found... skipping.\nHotel not found... skipping.\nHotel not found... skipping.\nHotel not found... skipping.\nHotel not found... skipping.\nHotel not found... skipping.\nHotel not found... skipping.\nHotel not found... skipping.\nHotel not found... skipping.\nHotel not found... skipping.\nHotel not found... skipping.\nHotel not found... skipping.\nHotel not found... skipping.\n"
    }
   ],
   "source": [
    "# Iterate through the DataFrame.\n",
    "for index, row in hotel_df.iterrows():\n",
    "    # Get the latitude and longitude.\n",
    "    lat = row[\"Lat\"]\n",
    "    lng = row[\"Lng\"]\n",
    "\n",
    "    # Add the latitude and longitude to location key for the params dictionary.\n",
    "    params[\"location\"] = f\"{lat},{lng}\"\n",
    "\n",
    "    # Use the search term: \"lodging\" and our latitude and longitude.\n",
    "    base_url = \"https://maps.googleapis.com/maps/api/place/nearbysearch/json\"\n",
    "    # Make request and get the JSON data from the search.\n",
    "    hotels = requests.get(base_url, params=params).json()\n",
    "# Grab the first hotel from the results and store the name.\n",
    "    try:\n",
    "        hotel_df.loc[index, \"Hotel Name\"] = hotels[\"results\"][0][\"name\"]\n",
    "    except (IndexError):\n",
    "        print(\"Hotel not found... skipping.\")"
   ]
  },
  {
   "cell_type": "code",
   "execution_count": 24,
   "metadata": {},
   "outputs": [
    {
     "output_type": "execute_result",
     "data": {
      "text/plain": "         City Country  Max Temp    Lat     Lng                     Hotel Name\n6   Shelburne      CA     86.00  44.08  -80.20        The Retreat at the Farm\n7   Boa Vista      BR     87.80   2.82  -60.67             Aipana Plaza Hotel\n10       Hilo      US     84.20  19.73 -155.09            Hilo Hawaiian Hotel\n12    Mandera      KE     80.76   3.94   41.87      Kornesh Hotel and Lodging\n17     Neiafu      TO     78.80 -18.65 -173.98                   Mystic Sands\n18   Kirakira      SB     80.65 -10.45  161.92                   SanBiz Lodge\n27       Fare      PF     79.41 -16.70 -151.02  Maitai Lapita Village Huahine\n37     Atuona      PF     79.54  -9.80 -139.03                    Villa Enata\n41    Manaure      CO     88.05  11.78  -72.44                 Del mar vendra\n44       Hami      CN     80.74  42.80   93.45               Laoyutang Resort",
      "text/html": "<div>\n<style scoped>\n    .dataframe tbody tr th:only-of-type {\n        vertical-align: middle;\n    }\n\n    .dataframe tbody tr th {\n        vertical-align: top;\n    }\n\n    .dataframe thead th {\n        text-align: right;\n    }\n</style>\n<table border=\"1\" class=\"dataframe\">\n  <thead>\n    <tr style=\"text-align: right;\">\n      <th></th>\n      <th>City</th>\n      <th>Country</th>\n      <th>Max Temp</th>\n      <th>Lat</th>\n      <th>Lng</th>\n      <th>Hotel Name</th>\n    </tr>\n  </thead>\n  <tbody>\n    <tr>\n      <td>6</td>\n      <td>Shelburne</td>\n      <td>CA</td>\n      <td>86.00</td>\n      <td>44.08</td>\n      <td>-80.20</td>\n      <td>The Retreat at the Farm</td>\n    </tr>\n    <tr>\n      <td>7</td>\n      <td>Boa Vista</td>\n      <td>BR</td>\n      <td>87.80</td>\n      <td>2.82</td>\n      <td>-60.67</td>\n      <td>Aipana Plaza Hotel</td>\n    </tr>\n    <tr>\n      <td>10</td>\n      <td>Hilo</td>\n      <td>US</td>\n      <td>84.20</td>\n      <td>19.73</td>\n      <td>-155.09</td>\n      <td>Hilo Hawaiian Hotel</td>\n    </tr>\n    <tr>\n      <td>12</td>\n      <td>Mandera</td>\n      <td>KE</td>\n      <td>80.76</td>\n      <td>3.94</td>\n      <td>41.87</td>\n      <td>Kornesh Hotel and Lodging</td>\n    </tr>\n    <tr>\n      <td>17</td>\n      <td>Neiafu</td>\n      <td>TO</td>\n      <td>78.80</td>\n      <td>-18.65</td>\n      <td>-173.98</td>\n      <td>Mystic Sands</td>\n    </tr>\n    <tr>\n      <td>18</td>\n      <td>Kirakira</td>\n      <td>SB</td>\n      <td>80.65</td>\n      <td>-10.45</td>\n      <td>161.92</td>\n      <td>SanBiz Lodge</td>\n    </tr>\n    <tr>\n      <td>27</td>\n      <td>Fare</td>\n      <td>PF</td>\n      <td>79.41</td>\n      <td>-16.70</td>\n      <td>-151.02</td>\n      <td>Maitai Lapita Village Huahine</td>\n    </tr>\n    <tr>\n      <td>37</td>\n      <td>Atuona</td>\n      <td>PF</td>\n      <td>79.54</td>\n      <td>-9.80</td>\n      <td>-139.03</td>\n      <td>Villa Enata</td>\n    </tr>\n    <tr>\n      <td>41</td>\n      <td>Manaure</td>\n      <td>CO</td>\n      <td>88.05</td>\n      <td>11.78</td>\n      <td>-72.44</td>\n      <td>Del mar vendra</td>\n    </tr>\n    <tr>\n      <td>44</td>\n      <td>Hami</td>\n      <td>CN</td>\n      <td>80.74</td>\n      <td>42.80</td>\n      <td>93.45</td>\n      <td>Laoyutang Resort</td>\n    </tr>\n  </tbody>\n</table>\n</div>"
     },
     "metadata": {},
     "execution_count": 24
    }
   ],
   "source": [
    "hotel_df.head(10)"
   ]
  },
  {
   "cell_type": "code",
   "execution_count": 26,
   "metadata": {},
   "outputs": [
    {
     "output_type": "display_data",
     "data": {
      "text/plain": "Figure(layout=FigureLayout(height='420px'))",
      "application/vnd.jupyter.widget-view+json": {
       "version_major": 2,
       "version_minor": 0,
       "model_id": "f021b4a80cf0491492e6d03855d13ca8"
      }
     },
     "metadata": {}
    }
   ],
   "source": [
    "# Add a heatmap of temperature for the vacation spots and marker for each city.\n",
    "locations = hotel_df[[\"Lat\", \"Lng\"]]\n",
    "max_temp = hotel_df[\"Max Temp\"]\n",
    "fig = gmaps.figure(center=(30.0, 31.0), zoom_level=1.5)\n",
    "heat_layer = gmaps.heatmap_layer(locations, weights=max_temp, \n",
    "             dissipating=False, max_intensity=300, point_radius=4)\n",
    "marker_layer = gmaps.marker_layer(locations)\n",
    "fig.add_layer(heat_layer)\n",
    "fig.add_layer(marker_layer)\n",
    "# Call the figure to plot the data.\n",
    "fig"
   ]
  },
  {
   "cell_type": "code",
   "execution_count": 27,
   "metadata": {},
   "outputs": [],
   "source": [
    "info_box_template = \"\"\"\n",
    "<dl>\n",
    "<dt>Hotel Name</dt><dd>{Hotel Name}</dd>\n",
    "<dt>City</dt><dd>{City}</dd>\n",
    "<dt>Country</dt><dd>{Country}</dd>\n",
    "<dt>Max Temp</dt><dd>{Max Temp} °F</dd>\n",
    "</dl>\n",
    "\"\"\""
   ]
  },
  {
   "cell_type": "code",
   "execution_count": 28,
   "metadata": {},
   "outputs": [],
   "source": [
    "# Store the DataFrame Row.\n",
    "hotel_info = [info_box_template.format(**row) for index, row in hotel_df.iterrows()]"
   ]
  },
  {
   "cell_type": "code",
   "execution_count": 29,
   "metadata": {},
   "outputs": [
    {
     "output_type": "display_data",
     "data": {
      "text/plain": "Figure(layout=FigureLayout(height='420px'))",
      "application/vnd.jupyter.widget-view+json": {
       "version_major": 2,
       "version_minor": 0,
       "model_id": "634ef79e42f047dd8952413d633a67d0"
      }
     },
     "metadata": {}
    }
   ],
   "source": [
    "# Add a heatmap of temperature for the vacation spots and a pop-up marker for each city.\n",
    "locations = hotel_df[[\"Lat\", \"Lng\"]]\n",
    "max_temp = hotel_df[\"Max Temp\"]\n",
    "fig = gmaps.figure(center=(30.0, 31.0), zoom_level=1.5)\n",
    "heat_layer = gmaps.heatmap_layer(locations, weights=max_temp,dissipating=False,\n",
    "             max_intensity=300, point_radius=4)\n",
    "marker_layer = gmaps.marker_layer(locations, info_box_content=hotel_info)\n",
    "fig.add_layer(heat_layer)\n",
    "fig.add_layer(marker_layer)\n",
    "\n",
    "# Call the figure to plot the data.\n",
    "fig"
   ]
  },
  {
   "cell_type": "code",
   "execution_count": null,
   "metadata": {},
   "outputs": [],
   "source": []
  }
 ],
 "metadata": {
  "language_info": {
   "codemirror_mode": {
    "name": "ipython",
    "version": 3
   },
   "file_extension": ".py",
   "mimetype": "text/x-python",
   "name": "python",
   "nbconvert_exporter": "python",
   "pygments_lexer": "ipython3",
   "version": "3.7.4-final"
  },
  "orig_nbformat": 2,
  "kernelspec": {
   "name": "python3",
   "display_name": "Python 3"
  }
 },
 "nbformat": 4,
 "nbformat_minor": 2
}