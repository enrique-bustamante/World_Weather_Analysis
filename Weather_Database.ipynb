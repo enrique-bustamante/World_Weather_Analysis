{
 "cells": [
  {
   "cell_type": "code",
   "execution_count": 1,
   "metadata": {},
   "outputs": [],
   "source": [
    "# Collect the data\n",
    "# import the dependencies we will need to run analysis\n",
    "from datetime import datetime\n",
    "import numpy as np \n",
    "from citipy import citipy\n",
    "import requests\n",
    "from config import weather_api_key\n",
    "import pandas as pd \n",
    "import matplotlib.pyplot as plt \n",
    "from scipy.stats import linregress"
   ]
  },
  {
   "cell_type": "code",
   "execution_count": 2,
   "metadata": {},
   "outputs": [],
   "source": [
    "# Use the NumPy module to generate more than 1,500 random latitudes and longitudes.\n",
    "# Create a set of random latitude and longitude combinations.\n",
    "lats = np.random.uniform(low=-90.000, high=90.000, size=1500)\n",
    "lngs = np. random.uniform(low=-180.000, high=180.000, size=1500)\n",
    "lat_lngs = zip(lats, lngs)\n",
    "lat_lngs\n",
    "coordinates = list(lat_lngs)"
   ]
  },
  {
   "cell_type": "code",
   "execution_count": 3,
   "metadata": {},
   "outputs": [],
   "source": [
    "# Use the citipy module to list the nearest city to the latitudes and longitudes.\n",
    "# Create a list for holding the cities.\n",
    "cities = []\n",
    "# Identify the nearest city for each latitude and longitude combination.\n",
    "for coordinate in coordinates:\n",
    "    city = citipy.nearest_city(coordinate[0], coordinate[1]).city_name\n",
    "    \n",
    "    # If the city is unique, then we will add it to the cities list.\n",
    "    if city not in cities:\n",
    "        cities.append(city)"
   ]
  },
  {
   "cell_type": "code",
   "execution_count": 4,
   "metadata": {},
   "outputs": [
    {
     "output_type": "execute_result",
     "data": {
      "text/plain": "'http://api.openweathermap.org/data/2.5/weather?units=Imperial&APPID=bb24cbf9f5bbb4b1b8fd150e59ba23af'"
     },
     "metadata": {},
     "execution_count": 4
    }
   ],
   "source": [
    "# Use the OpenWeatherMap API to request the current weather data from each unique city in your list.\n",
    "url = \"http://api.openweathermap.org/data/2.5/weather?units=Imperial&APPID=\" + weather_api_key\n",
    "url"
   ]
  },
  {
   "cell_type": "code",
   "execution_count": 20,
   "metadata": {
    "tags": [
     "outputPrepend"
    ]
   },
   "outputs": [
    {
     "output_type": "stream",
     "name": "stdout",
     "text": "ing Record 13 of Set 4 | malm\nProcessing Record 14 of Set 4 | akhtubinsk\nProcessing Record 15 of Set 4 | ulety\nProcessing Record 16 of Set 4 | aberdeen\nProcessing Record 17 of Set 4 | dhadar\nProcessing Record 18 of Set 4 | makakilo city\nProcessing Record 19 of Set 4 | tres passos\nProcessing Record 20 of Set 4 | crispiano\nProcessing Record 21 of Set 4 | labuhan\nProcessing Record 22 of Set 4 | cherskiy\nProcessing Record 23 of Set 4 | urucui\nProcessing Record 24 of Set 4 | constitucion\nProcessing Record 25 of Set 4 | nishihara\nProcessing Record 26 of Set 4 | mexico\nProcessing Record 27 of Set 4 | yar-sale\nProcessing Record 28 of Set 4 | dingle\nProcessing Record 29 of Set 4 | rochester\nProcessing Record 30 of Set 4 | vila velha\nProcessing Record 31 of Set 4 | marsaxlokk\nProcessing Record 32 of Set 4 | kibungo\nProcessing Record 33 of Set 4 | port blair\nProcessing Record 34 of Set 4 | clyde river\nProcessing Record 35 of Set 4 | ancud\nProcessing Record 36 of Set 4 | ust-tsilma\nProcessing Record 37 of Set 4 | coruripe\nProcessing Record 38 of Set 4 | marathon\nProcessing Record 39 of Set 4 | erzin\nProcessing Record 40 of Set 4 | nouakchott\nProcessing Record 41 of Set 4 | broome\nProcessing Record 42 of Set 4 | nelson\nProcessing Record 43 of Set 4 | san cristobal\nProcessing Record 44 of Set 4 | geraldton\nProcessing Record 45 of Set 4 | brae\nProcessing Record 46 of Set 4 | kodiak\nProcessing Record 47 of Set 4 | souillac\nProcessing Record 48 of Set 4 | prince rupert\nProcessing Record 49 of Set 4 | ecoporanga\nProcessing Record 50 of Set 4 | banyo\nProcessing Record 1 of Set 5 | prata\nProcessing Record 2 of Set 5 | burnie\nProcessing Record 3 of Set 5 | aklavik\nProcessing Record 4 of Set 5 | campbell river\nProcessing Record 5 of Set 5 | mariinskiy posad\nProcessing Record 6 of Set 5 | tessalit\nProcessing Record 7 of Set 5 | kargopol\nProcessing Record 8 of Set 5 | iqaluit\nProcessing Record 9 of Set 5 | smidovich\nProcessing Record 10 of Set 5 | tasiilaq\nProcessing Record 11 of Set 5 | hay river\nProcessing Record 12 of Set 5 | jingdezhen\nProcessing Record 13 of Set 5 | nizhneyansk\nCity not found. Skipping...\nProcessing Record 14 of Set 5 | kiama\nProcessing Record 15 of Set 5 | nyuksenitsa\nProcessing Record 16 of Set 5 | krasnoselkup\nProcessing Record 17 of Set 5 | roald\nProcessing Record 18 of Set 5 | new norfolk\nProcessing Record 19 of Set 5 | shchigry\nProcessing Record 20 of Set 5 | kruisfontein\nProcessing Record 21 of Set 5 | dhidhdhoo\nProcessing Record 22 of Set 5 | srednekolymsk\nProcessing Record 23 of Set 5 | play cu\nCity not found. Skipping...\nProcessing Record 24 of Set 5 | bambous virieux\nProcessing Record 25 of Set 5 | karpathos\nProcessing Record 26 of Set 5 | beyneu\nProcessing Record 27 of Set 5 | amderma\nCity not found. Skipping...\nProcessing Record 28 of Set 5 | manokwari\nProcessing Record 29 of Set 5 | novyy rogachik\nProcessing Record 30 of Set 5 | teya\nProcessing Record 31 of Set 5 | riyadh\nProcessing Record 32 of Set 5 | seda\nProcessing Record 33 of Set 5 | champerico\nProcessing Record 34 of Set 5 | port hawkesbury\nProcessing Record 35 of Set 5 | carutapera\nProcessing Record 36 of Set 5 | saint george\nProcessing Record 37 of Set 5 | bolungarvik\nCity not found. Skipping...\nProcessing Record 38 of Set 5 | nikolskoye\nProcessing Record 39 of Set 5 | mount gambier\nProcessing Record 40 of Set 5 | praia da vitoria\nProcessing Record 41 of Set 5 | karratha\nProcessing Record 42 of Set 5 | sinnamary\nProcessing Record 43 of Set 5 | buta\nProcessing Record 44 of Set 5 | tourlaville\nProcessing Record 45 of Set 5 | chapais\nProcessing Record 46 of Set 5 | saldanha\nProcessing Record 47 of Set 5 | alice springs\nProcessing Record 48 of Set 5 | saleaula\nCity not found. Skipping...\nProcessing Record 49 of Set 5 | grindavik\nProcessing Record 50 of Set 5 | sao filipe\nProcessing Record 1 of Set 6 | harwich\nProcessing Record 2 of Set 6 | banjar\nProcessing Record 3 of Set 6 | dublin\nProcessing Record 4 of Set 6 | richards bay\nProcessing Record 5 of Set 6 | paso de carrasco\nProcessing Record 6 of Set 6 | huaiyuan\nProcessing Record 7 of Set 6 | kloulklubed\nProcessing Record 8 of Set 6 | alihe\nProcessing Record 9 of Set 6 | faya\nProcessing Record 10 of Set 6 | bentiu\nProcessing Record 11 of Set 6 | tumannyy\nCity not found. Skipping...\nProcessing Record 12 of Set 6 | acapulco\nProcessing Record 13 of Set 6 | kolokani\nProcessing Record 14 of Set 6 | ketchikan\nProcessing Record 15 of Set 6 | kadipur\nProcessing Record 16 of Set 6 | cayenne\nProcessing Record 17 of Set 6 | lhokseumawe\nProcessing Record 18 of Set 6 | mrirt\nCity not found. Skipping...\nProcessing Record 19 of Set 6 | dhankuta\nProcessing Record 20 of Set 6 | vestmannaeyjar\nProcessing Record 21 of Set 6 | gravdal\nProcessing Record 22 of Set 6 | macaboboni\nCity not found. Skipping...\nProcessing Record 23 of Set 6 | flinders\nProcessing Record 24 of Set 6 | longyearbyen\nProcessing Record 25 of Set 6 | vaitupu\nCity not found. Skipping...\nProcessing Record 26 of Set 6 | ust-kut\nProcessing Record 27 of Set 6 | mwingi\nProcessing Record 28 of Set 6 | sosva\nProcessing Record 29 of Set 6 | ninotsminda\nProcessing Record 30 of Set 6 | thinadhoo\nProcessing Record 31 of Set 6 | naze\nProcessing Record 32 of Set 6 | mastic beach\nProcessing Record 33 of Set 6 | kilindoni\nProcessing Record 34 of Set 6 | kahului\nProcessing Record 35 of Set 6 | lindi\nProcessing Record 36 of Set 6 | kashiwazaki\nProcessing Record 37 of Set 6 | maputo\nProcessing Record 38 of Set 6 | luanda\nProcessing Record 39 of Set 6 | alofi\nProcessing Record 40 of Set 6 | lorengau\nProcessing Record 41 of Set 6 | santa fe\nProcessing Record 42 of Set 6 | galgani\nCity not found. Skipping...\nProcessing Record 43 of Set 6 | acara\nProcessing Record 44 of Set 6 | necochea\nProcessing Record 45 of Set 6 | ormara\nProcessing Record 46 of Set 6 | la palma\nProcessing Record 47 of Set 6 | sentyabrskiy\nCity not found. Skipping...\nProcessing Record 48 of Set 6 | pacific grove\nProcessing Record 49 of Set 6 | bengkulu\nProcessing Record 50 of Set 6 | tautira\nProcessing Record 1 of Set 7 | akureyri\nProcessing Record 2 of Set 7 | college\nProcessing Record 3 of Set 7 | opuwo\nProcessing Record 4 of Set 7 | denpasar\nProcessing Record 5 of Set 7 | robertsport\nProcessing Record 6 of Set 7 | tilichiki\nProcessing Record 7 of Set 7 | vreed en hoop\nCity not found. Skipping...\nProcessing Record 8 of Set 7 | nosy varika\nProcessing Record 9 of Set 7 | dubbo\nProcessing Record 10 of Set 7 | kamakhyanagar\nProcessing Record 11 of Set 7 | conceicao do araguaia\nProcessing Record 12 of Set 7 | san jose\nProcessing Record 13 of Set 7 | paralimni\nProcessing Record 14 of Set 7 | bilibino\nProcessing Record 15 of Set 7 | byron bay\nProcessing Record 16 of Set 7 | baykit\nProcessing Record 17 of Set 7 | bridlington\nProcessing Record 18 of Set 7 | rudnogorsk\nProcessing Record 19 of Set 7 | tocopilla\nProcessing Record 20 of Set 7 | okha\nProcessing Record 21 of Set 7 | henties bay\nProcessing Record 22 of Set 7 | te anau\nProcessing Record 23 of Set 7 | sambava\nProcessing Record 24 of Set 7 | sao felix do xingu\nProcessing Record 25 of Set 7 | punta alta\nProcessing Record 26 of Set 7 | letterkenny\nProcessing Record 27 of Set 7 | donskoye\nProcessing Record 28 of Set 7 | meadow lake\nProcessing Record 29 of Set 7 | mayo\nProcessing Record 30 of Set 7 | utiroa\nCity not found. Skipping...\nProcessing Record 31 of Set 7 | derzhavinsk\nProcessing Record 32 of Set 7 | iskateley\nProcessing Record 33 of Set 7 | hofn\nProcessing Record 34 of Set 7 | esperance\nProcessing Record 35 of Set 7 | posse\nProcessing Record 36 of Set 7 | maragogi\nProcessing Record 37 of Set 7 | muli\nProcessing Record 38 of Set 7 | santa isabel\nProcessing Record 39 of Set 7 | yumen\nProcessing Record 40 of Set 7 | codrington\nProcessing Record 41 of Set 7 | merauke\nProcessing Record 42 of Set 7 | grand gaube\nProcessing Record 43 of Set 7 | bakchar\nProcessing Record 44 of Set 7 | coquimbo\nProcessing Record 45 of Set 7 | xining\nProcessing Record 46 of Set 7 | neuquen\nProcessing Record 47 of Set 7 | portland\nProcessing Record 48 of Set 7 | lusambo\nProcessing Record 49 of Set 7 | kirakira\nProcessing Record 50 of Set 7 | the hague\nProcessing Record 1 of Set 8 | faanui\nProcessing Record 2 of Set 8 | pathein\nProcessing Record 3 of Set 8 | vila franca do campo\nProcessing Record 4 of Set 8 | shintomi\nProcessing Record 5 of Set 8 | aguimes\nProcessing Record 6 of Set 8 | cockburn town\nProcessing Record 7 of Set 8 | kedougou\nProcessing Record 8 of Set 8 | tabou\nProcessing Record 9 of Set 8 | troitskoye\nProcessing Record 10 of Set 8 | sao joao da barra\nProcessing Record 11 of Set 8 | tefe\nProcessing Record 12 of Set 8 | sungai padi\nProcessing Record 13 of Set 8 | nueva guinea\nProcessing Record 14 of Set 8 | matadi\nProcessing Record 15 of Set 8 | mys shmidta\nCity not found. Skipping...\nProcessing Record 16 of Set 8 | biak\nProcessing Record 17 of Set 8 | rio grande\nProcessing Record 18 of Set 8 | esmeraldas\nProcessing Record 19 of Set 8 | tumpat\nProcessing Record 20 of Set 8 | atliaca\nProcessing Record 21 of Set 8 | sindand\nCity not found. Skipping...\nProcessing Record 22 of Set 8 | la ronge\nProcessing Record 23 of Set 8 | samarai\nProcessing Record 24 of Set 8 | narsaq\nProcessing Record 25 of Set 8 | attawapiskat\nCity not found. Skipping...\nProcessing Record 26 of Set 8 | sioux lookout\nProcessing Record 27 of Set 8 | anadyr\nProcessing Record 28 of Set 8 | tazovskiy\nProcessing Record 29 of Set 8 | tartagal\nProcessing Record 30 of Set 8 | bara\nProcessing Record 31 of Set 8 | pisco\nProcessing Record 32 of Set 8 | anchorage\nProcessing Record 33 of Set 8 | sola\nProcessing Record 34 of Set 8 | rundu\nProcessing Record 35 of Set 8 | ginda\nProcessing Record 36 of Set 8 | olutanga\nProcessing Record 37 of Set 8 | rawson\nProcessing Record 38 of Set 8 | dudinka\nProcessing Record 39 of Set 8 | chokurdakh\nProcessing Record 40 of Set 8 | sarila\nProcessing Record 41 of Set 8 | usinsk\nProcessing Record 42 of Set 8 | zonguldak\nProcessing Record 43 of Set 8 | ballina\nProcessing Record 44 of Set 8 | skogn\nProcessing Record 45 of Set 8 | touros\nProcessing Record 46 of Set 8 | wulanhaote\nCity not found. Skipping...\nProcessing Record 47 of Set 8 | katsuura\nProcessing Record 48 of Set 8 | lewisville\nProcessing Record 49 of Set 8 | peterhead\nProcessing Record 50 of Set 8 | bathsheba\nProcessing Record 1 of Set 9 | winston-salem\nProcessing Record 2 of Set 9 | inderborskiy\nCity not found. Skipping...\nProcessing Record 3 of Set 9 | port keats\nProcessing Record 4 of Set 9 | eydhafushi\nProcessing Record 5 of Set 9 | chuy\nProcessing Record 6 of Set 9 | the valley\nProcessing Record 7 of Set 9 | cidreira\nProcessing Record 8 of Set 9 | brainerd\nProcessing Record 9 of Set 9 | sao jose da coroa grande\nProcessing Record 10 of Set 9 | tadine\nProcessing Record 11 of Set 9 | kumla\nProcessing Record 12 of Set 9 | marcona\nCity not found. Skipping...\nProcessing Record 13 of Set 9 | guerrero negro\nProcessing Record 14 of Set 9 | tabulbah\nCity not found. Skipping...\nProcessing Record 15 of Set 9 | rio gallegos\nProcessing Record 16 of Set 9 | deputatskiy\nProcessing Record 17 of Set 9 | opotiki\nProcessing Record 18 of Set 9 | port augusta\nProcessing Record 19 of Set 9 | havre\nProcessing Record 20 of Set 9 | san quintin\nProcessing Record 21 of Set 9 | iralaya\nProcessing Record 22 of Set 9 | berlevag\nProcessing Record 23 of Set 9 | biloela\nProcessing Record 24 of Set 9 | chicama\nProcessing Record 25 of Set 9 | fershampenuaz\nProcessing Record 26 of Set 9 | aksarka\nProcessing Record 27 of Set 9 | paamiut\nProcessing Record 28 of Set 9 | aquin\nProcessing Record 29 of Set 9 | hoquiam\nProcessing Record 30 of Set 9 | marawi\nProcessing Record 31 of Set 9 | lac-au-saumon\nProcessing Record 32 of Set 9 | miramar\nProcessing Record 33 of Set 9 | san rafael\nProcessing Record 34 of Set 9 | lagunas\nProcessing Record 35 of Set 9 | cap malheureux\nProcessing Record 36 of Set 9 | gurskoye\nCity not found. Skipping...\nProcessing Record 37 of Set 9 | wittmund\nProcessing Record 38 of Set 9 | camana\nProcessing Record 39 of Set 9 | iwaki\nProcessing Record 40 of Set 9 | adrar\nProcessing Record 41 of Set 9 | abu kamal\nProcessing Record 42 of Set 9 | karaul\nCity not found. Skipping...\nProcessing Record 43 of Set 9 | ndele\nProcessing Record 44 of Set 9 | aboisso\nProcessing Record 45 of Set 9 | vanimo\nProcessing Record 46 of Set 9 | havre-saint-pierre\nProcessing Record 47 of Set 9 | aleksandrovsk-sakhalinskiy\nProcessing Record 48 of Set 9 | batemans bay\nProcessing Record 49 of Set 9 | urumqi\nProcessing Record 50 of Set 9 | eyl\nProcessing Record 1 of Set 10 | gagino\nProcessing Record 2 of Set 10 | goundam\nProcessing Record 3 of Set 10 | sur\nProcessing Record 4 of Set 10 | mandera\nProcessing Record 5 of Set 10 | wajid\nProcessing Record 6 of Set 10 | warmbad\nProcessing Record 7 of Set 10 | okato\nProcessing Record 8 of Set 10 | shingu\nProcessing Record 9 of Set 10 | san andres\nProcessing Record 10 of Set 10 | sotuta\nProcessing Record 11 of Set 10 | rivne\nProcessing Record 12 of Set 10 | ixtapa\nProcessing Record 13 of Set 10 | nhulunbuy\nProcessing Record 14 of Set 10 | pribelskiy\nCity not found. Skipping...\nProcessing Record 15 of Set 10 | khonuu\nCity not found. Skipping...\nProcessing Record 16 of Set 10 | savannah bight\nProcessing Record 17 of Set 10 | bhimunipatnam\nProcessing Record 18 of Set 10 | buluang\nProcessing Record 19 of Set 10 | talakan\nProcessing Record 20 of Set 10 | komsomolskiy\nProcessing Record 21 of Set 10 | beringovskiy\nProcessing Record 22 of Set 10 | egvekinot\nProcessing Record 23 of Set 10 | micheweni\nProcessing Record 24 of Set 10 | neiafu\nProcessing Record 25 of Set 10 | jarvenpaa\nProcessing Record 26 of Set 10 | totness\nProcessing Record 27 of Set 10 | baker city\nProcessing Record 28 of Set 10 | margate\nProcessing Record 29 of Set 10 | leninskoye\nProcessing Record 30 of Set 10 | ushtobe\nProcessing Record 31 of Set 10 | bull savanna\nProcessing Record 32 of Set 10 | ilo\nProcessing Record 33 of Set 10 | sabang\nProcessing Record 34 of Set 10 | pompeu\nProcessing Record 35 of Set 10 | omboue\nProcessing Record 36 of Set 10 | wladyslawowo\nProcessing Record 37 of Set 10 | hailin\nProcessing Record 38 of Set 10 | maniitsoq\nProcessing Record 39 of Set 10 | dumas\nProcessing Record 40 of Set 10 | llanes\nProcessing Record 41 of Set 10 | katherine\nProcessing Record 42 of Set 10 | rapu-rapu\nProcessing Record 43 of Set 10 | kagadi\nProcessing Record 44 of Set 10 | hasaki\nProcessing Record 45 of Set 10 | vardo\nProcessing Record 46 of Set 10 | bjala\nCity not found. Skipping...\nProcessing Record 47 of Set 10 | talnakh\nProcessing Record 48 of Set 10 | jawa\nProcessing Record 49 of Set 10 | sarangani\nProcessing Record 50 of Set 10 | balkhash\nProcessing Record 1 of Set 11 | malwan\nCity not found. Skipping...\nProcessing Record 2 of Set 11 | amapa\nProcessing Record 3 of Set 11 | san pedro\nProcessing Record 4 of Set 11 | roswell\nProcessing Record 5 of Set 11 | aksu\nProcessing Record 6 of Set 11 | labytnangi\nProcessing Record 7 of Set 11 | fuerte olimpo\nProcessing Record 8 of Set 11 | falmouth\nProcessing Record 9 of Set 11 | mahon\nProcessing Record 10 of Set 11 | normandin\nProcessing Record 11 of Set 11 | mosquera\nProcessing Record 12 of Set 11 | maltahohe\nProcessing Record 13 of Set 11 | buraydah\nProcessing Record 14 of Set 11 | zyryanovsk\nProcessing Record 15 of Set 11 | murray bridge\nProcessing Record 16 of Set 11 | atchison\nProcessing Record 17 of Set 11 | kaohsiung\nProcessing Record 18 of Set 11 | kismayo\nProcessing Record 19 of Set 11 | barra patuca\nProcessing Record 20 of Set 11 | pangnirtung\nProcessing Record 21 of Set 11 | pujili\nProcessing Record 22 of Set 11 | saint-joseph\nProcessing Record 23 of Set 11 | gallup\nProcessing Record 24 of Set 11 | bardiyah\nProcessing Record 25 of Set 11 | saint anthony\nProcessing Record 26 of Set 11 | nouadhibou\nProcessing Record 27 of Set 11 | randazzo\nProcessing Record 28 of Set 11 | yulara\nProcessing Record 29 of Set 11 | limulunga\nProcessing Record 30 of Set 11 | novyy urengoy\nProcessing Record 31 of Set 11 | chadiza\nProcessing Record 32 of Set 11 | yomitan\nCity not found. Skipping...\nProcessing Record 33 of Set 11 | staryy nadym\nProcessing Record 34 of Set 11 | visnes\nProcessing Record 35 of Set 11 | severo-kurilsk\nProcessing Record 36 of Set 11 | wahran\nCity not found. Skipping...\nProcessing Record 37 of Set 11 | diamantina\nProcessing Record 38 of Set 11 | mendi\nProcessing Record 39 of Set 11 | broken hill\nProcessing Record 40 of Set 11 | monduli\nProcessing Record 41 of Set 11 | rocha\nProcessing Record 42 of Set 11 | warqla\nCity not found. Skipping...\nProcessing Record 43 of Set 11 | kintampo\nProcessing Record 44 of Set 11 | mindelo\nProcessing Record 45 of Set 11 | honiara\nProcessing Record 46 of Set 11 | pemangkat\nProcessing Record 47 of Set 11 | xiuyan\nProcessing Record 48 of Set 11 | yatou\nProcessing Record 49 of Set 11 | beni suef\nProcessing Record 50 of Set 11 | tampere\nProcessing Record 1 of Set 12 | atasu\nProcessing Record 2 of Set 12 | krasnoarmeyskoye\nProcessing Record 3 of Set 12 | strai\nProcessing Record 4 of Set 12 | sainte-maxime\nProcessing Record 5 of Set 12 | ahuimanu\nProcessing Record 6 of Set 12 | kaeo\nProcessing Record 7 of Set 12 | jalu\nProcessing Record 8 of Set 12 | sorvag\nCity not found. Skipping...\nProcessing Record 9 of Set 12 | tanjong tokong\nCity not found. Skipping...\nProcessing Record 10 of Set 12 | salinopolis\nProcessing Record 11 of Set 12 | kyle of lochalsh\nCity not found. Skipping...\nProcessing Record 12 of Set 12 | klyuchi\nProcessing Record 13 of Set 12 | karakose\nCity not found. Skipping...\nProcessing Record 14 of Set 12 | anshun\nProcessing Record 15 of Set 12 | parfenyevo\nProcessing Record 16 of Set 12 | tecalitlan\nProcessing Record 17 of Set 12 | eidsvag\nProcessing Record 18 of Set 12 | zhigansk\nProcessing Record 19 of Set 12 | jinchengjiang\nCity not found. Skipping...\nProcessing Record 20 of Set 12 | matara\nProcessing Record 21 of Set 12 | kochki\nProcessing Record 22 of Set 12 | marienburg\nProcessing Record 23 of Set 12 | stokmarknes\nProcessing Record 24 of Set 12 | santiago\nProcessing Record 25 of Set 12 | kalmunai\nProcessing Record 26 of Set 12 | avera\nProcessing Record 27 of Set 12 | peoria\nProcessing Record 28 of Set 12 | nevel\nProcessing Record 29 of Set 12 | verkhnevilyuysk\nProcessing Record 30 of Set 12 | bolshoy tsaryn\nCity not found. Skipping...\nProcessing Record 31 of Set 12 | durazno\nProcessing Record 32 of Set 12 | huntsville\nProcessing Record 33 of Set 12 | husavik\nProcessing Record 34 of Set 12 | hihifo\nCity not found. Skipping...\nProcessing Record 35 of Set 12 | shenjiamen\nProcessing Record 36 of Set 12 | kurilsk\nProcessing Record 37 of Set 12 | manta\nProcessing Record 38 of Set 12 | khovu-aksy\nProcessing Record 39 of Set 12 | nsanje\nProcessing Record 40 of Set 12 | porto nacional\nProcessing Record 41 of Set 12 | kanniyakumari\nProcessing Record 42 of Set 12 | mouzouras\nProcessing Record 43 of Set 12 | rockland\nProcessing Record 44 of Set 12 | miri\nProcessing Record 45 of Set 12 | gornopravdinsk\nProcessing Record 46 of Set 12 | bonavista\nProcessing Record 47 of Set 12 | tromso\nProcessing Record 48 of Set 12 | nabire\nProcessing Record 49 of Set 12 | batticaloa\nProcessing Record 50 of Set 12 | okitipupa\nProcessing Record 1 of Set 13 | siruguppa\nProcessing Record 2 of Set 13 | poronaysk\nProcessing Record 3 of Set 13 | ati\nProcessing Record 4 of Set 13 | puerto carreno\nProcessing Record 5 of Set 13 | vostok\nProcessing Record 6 of Set 13 | wilmington\nProcessing Record 7 of Set 13 | puerto escondido\nProcessing Record 8 of Set 13 | ust-kuyga\nProcessing Record 9 of Set 13 | kalianget\nProcessing Record 10 of Set 13 | ossora\nProcessing Record 11 of Set 13 | constantine\nProcessing Record 12 of Set 13 | bellevue\nProcessing Record 13 of Set 13 | westport\nProcessing Record 14 of Set 13 | piney green\nProcessing Record 15 of Set 13 | acolla\nProcessing Record 16 of Set 13 | de aar\n-----------------------------\nData Retrieval Complete      \n-----------------------------\n"
    }
   ],
   "source": [
    "# Create an empty list to hold the weather data.\n",
    "city_data = []\n",
    "# Print the beginning of the logging.\n",
    "print(\"Beginning Data Retrieval     \")\n",
    "print(\"-----------------------------\")\n",
    "\n",
    "# Create counters.\n",
    "record_count = 1\n",
    "set_count = 1\n",
    "\n",
    "# Loop through all the cities in the list.\n",
    "for i, city in enumerate(cities):\n",
    "\n",
    "    # Group cities in sets of 50 for logging purposes.\n",
    "    if (i % 50 == 0 and i >= 50):\n",
    "        set_count += 1\n",
    "        record_count = 1\n",
    "    # Create endpoint URL with each city.\n",
    "    city_url = url + \"&q=\" + city.replace(\" \",\"+\")\n",
    "\n",
    "    # Log the URL, record, and set numbers and the city.\n",
    "    print(f\"Processing Record {record_count} of Set {set_count} | {city}\")\n",
    "    # Add 1 to the record count.\n",
    "    record_count += 1\n",
    "\n",
    "    # Run an API request for each of the cities.\n",
    "    try:\n",
    "        # Parse the JSON and retrieve data.\n",
    "        city_weather = requests.get(city_url).json()\n",
    "        # Parse out the needed data.\n",
    "        city_lat = city_weather[\"coord\"][\"lat\"]\n",
    "        city_lng = city_weather[\"coord\"][\"lon\"]\n",
    "        city_max_temp = city_weather[\"main\"][\"temp_max\"]\n",
    "        city_humidity = city_weather[\"main\"][\"humidity\"]\n",
    "        city_clouds = city_weather[\"clouds\"][\"all\"]\n",
    "        city_wind = city_weather[\"wind\"][\"speed\"]\n",
    "        city_country = city_weather[\"sys\"][\"country\"]\n",
    "        try:\n",
    "            city_description = city_weather[\"weather\"][0][\"description\"]\n",
    "        except:\n",
    "            city_description = \"No description\"\n",
    "       \n",
    "        \n",
    "        # Append the city information into city_data list.\n",
    "        city_data.append({\"City\": city.title(),\n",
    "                          \"Lat\": city_lat,\n",
    "                          \"Lng\": city_lng,\n",
    "                          \"Max Temp\": city_max_temp,\n",
    "                          \"Humidity\": city_humidity,\n",
    "                          \"Cloudiness\": city_clouds,\n",
    "                          \"Wind Speed\": city_wind,\n",
    "                          \"Country\": city_country,\n",
    "                          \"Current Description\": city_description\n",
    "                          })\n",
    "        \n",
    "\n",
    "# If an error is experienced, skip the city.\n",
    "    except:\n",
    "        print(\"City not found. Skipping...\")\n",
    "        pass\n",
    "\n",
    "# Indicate that Data Loading is complete.\n",
    "print(\"-----------------------------\")\n",
    "print(\"Data Retrieval Complete      \")\n",
    "print(\"-----------------------------\")"
   ]
  },
  {
   "cell_type": "code",
   "execution_count": 21,
   "metadata": {},
   "outputs": [
    {
     "output_type": "execute_result",
     "data": {
      "text/plain": "568"
     },
     "metadata": {},
     "execution_count": 21
    }
   ],
   "source": [
    "len(city_data)"
   ]
  },
  {
   "cell_type": "code",
   "execution_count": 22,
   "metadata": {},
   "outputs": [
    {
     "output_type": "execute_result",
     "data": {
      "text/plain": "            City Country    Lat     Lng  Max Temp  Humidity  Cloudiness  \\\n0       Hamilton      US  39.18  -84.53     73.99        94          20   \n1     Bredasdorp      ZA -34.53   20.04     57.20        76          72   \n2        Ushuaia      AR -54.80  -68.30     35.60        69          21   \n3   Ponta Do Sol      PT  32.67  -17.10     69.80        83          20   \n4  Leningradskiy      RU  69.38  178.42     46.56        74         100   \n5      Flin Flon      CA  54.77 -101.86     68.58        47          43   \n6         Dalvik      IS  65.97  -18.53     37.40        93           1   \n7      Bealanana      MG -14.55   48.73     61.77        90          93   \n8     North Bend      US  43.41 -124.22     61.00        77          90   \n9        Dunedin      NZ -45.87  170.50     46.00        78         100   \n\n   Wind Speed Current Description  \n0        4.70          light rain  \n1       17.22       broken clouds  \n2       16.11          few clouds  \n3        3.36          few clouds  \n4        5.12     overcast clouds  \n5        8.66    scattered clouds  \n6        0.63           clear sky  \n7        8.72     overcast clouds  \n8        5.82     overcast clouds  \n9        5.99          light rain  ",
      "text/html": "<div>\n<style scoped>\n    .dataframe tbody tr th:only-of-type {\n        vertical-align: middle;\n    }\n\n    .dataframe tbody tr th {\n        vertical-align: top;\n    }\n\n    .dataframe thead th {\n        text-align: right;\n    }\n</style>\n<table border=\"1\" class=\"dataframe\">\n  <thead>\n    <tr style=\"text-align: right;\">\n      <th></th>\n      <th>City</th>\n      <th>Country</th>\n      <th>Lat</th>\n      <th>Lng</th>\n      <th>Max Temp</th>\n      <th>Humidity</th>\n      <th>Cloudiness</th>\n      <th>Wind Speed</th>\n      <th>Current Description</th>\n    </tr>\n  </thead>\n  <tbody>\n    <tr>\n      <td>0</td>\n      <td>Hamilton</td>\n      <td>US</td>\n      <td>39.18</td>\n      <td>-84.53</td>\n      <td>73.99</td>\n      <td>94</td>\n      <td>20</td>\n      <td>4.70</td>\n      <td>light rain</td>\n    </tr>\n    <tr>\n      <td>1</td>\n      <td>Bredasdorp</td>\n      <td>ZA</td>\n      <td>-34.53</td>\n      <td>20.04</td>\n      <td>57.20</td>\n      <td>76</td>\n      <td>72</td>\n      <td>17.22</td>\n      <td>broken clouds</td>\n    </tr>\n    <tr>\n      <td>2</td>\n      <td>Ushuaia</td>\n      <td>AR</td>\n      <td>-54.80</td>\n      <td>-68.30</td>\n      <td>35.60</td>\n      <td>69</td>\n      <td>21</td>\n      <td>16.11</td>\n      <td>few clouds</td>\n    </tr>\n    <tr>\n      <td>3</td>\n      <td>Ponta Do Sol</td>\n      <td>PT</td>\n      <td>32.67</td>\n      <td>-17.10</td>\n      <td>69.80</td>\n      <td>83</td>\n      <td>20</td>\n      <td>3.36</td>\n      <td>few clouds</td>\n    </tr>\n    <tr>\n      <td>4</td>\n      <td>Leningradskiy</td>\n      <td>RU</td>\n      <td>69.38</td>\n      <td>178.42</td>\n      <td>46.56</td>\n      <td>74</td>\n      <td>100</td>\n      <td>5.12</td>\n      <td>overcast clouds</td>\n    </tr>\n    <tr>\n      <td>5</td>\n      <td>Flin Flon</td>\n      <td>CA</td>\n      <td>54.77</td>\n      <td>-101.86</td>\n      <td>68.58</td>\n      <td>47</td>\n      <td>43</td>\n      <td>8.66</td>\n      <td>scattered clouds</td>\n    </tr>\n    <tr>\n      <td>6</td>\n      <td>Dalvik</td>\n      <td>IS</td>\n      <td>65.97</td>\n      <td>-18.53</td>\n      <td>37.40</td>\n      <td>93</td>\n      <td>1</td>\n      <td>0.63</td>\n      <td>clear sky</td>\n    </tr>\n    <tr>\n      <td>7</td>\n      <td>Bealanana</td>\n      <td>MG</td>\n      <td>-14.55</td>\n      <td>48.73</td>\n      <td>61.77</td>\n      <td>90</td>\n      <td>93</td>\n      <td>8.72</td>\n      <td>overcast clouds</td>\n    </tr>\n    <tr>\n      <td>8</td>\n      <td>North Bend</td>\n      <td>US</td>\n      <td>43.41</td>\n      <td>-124.22</td>\n      <td>61.00</td>\n      <td>77</td>\n      <td>90</td>\n      <td>5.82</td>\n      <td>overcast clouds</td>\n    </tr>\n    <tr>\n      <td>9</td>\n      <td>Dunedin</td>\n      <td>NZ</td>\n      <td>-45.87</td>\n      <td>170.50</td>\n      <td>46.00</td>\n      <td>78</td>\n      <td>100</td>\n      <td>5.99</td>\n      <td>light rain</td>\n    </tr>\n  </tbody>\n</table>\n</div>"
     },
     "metadata": {},
     "execution_count": 22
    }
   ],
   "source": [
    "# Collect the following data from the JSON file and add it to a DataFrame:\n",
    "\n",
    "# Convert the array of dictionaries to a Pandas DataFrame.\n",
    "city_data_df = pd.DataFrame(city_data)\n",
    "\n",
    "new_column_order = [\"City\", \"Country\", \"Lat\", \"Lng\", \"Max Temp\", \"Humidity\", \"Cloudiness\", \"Wind Speed\",\"Current Description\"]\n",
    "city_data_df = city_data_df[new_column_order]\n",
    "city_data_df.head(10)"
   ]
  },
  {
   "cell_type": "code",
   "execution_count": 17,
   "metadata": {},
   "outputs": [
    {
     "output_type": "execute_result",
     "data": {
      "text/plain": "'clear sky'"
     },
     "metadata": {},
     "execution_count": 17
    }
   ],
   "source": [
    "city_weather['weather'][0]['description']"
   ]
  },
  {
   "cell_type": "code",
   "execution_count": 19,
   "metadata": {},
   "outputs": [
    {
     "output_type": "execute_result",
     "data": {
      "text/plain": "                 City Country    Lat     Lng  Max Temp  Humidity  Cloudiness  \\\n558  Puerto Escondido      MX  15.85  -97.07     82.78        75         100   \n559         Ust-Kuyga      RU  70.02  135.60     49.19        79         100   \n560         Kalianget      ID  -7.05  113.93     83.07        73          20   \n561            Ossora      RU  59.24  163.07     55.92        78          27   \n562       Constantine      DZ  36.37    6.61     60.80        77          20   \n563          Bellevue      US  47.61 -122.20     70.00        49          40   \n564          Westport      US  41.14  -73.36     71.60        83          75   \n565       Piney Green      US  34.72  -77.32     80.60        78           1   \n566            Acolla      PE -11.73  -75.55     47.34        75          98   \n567            De Aar      ZA -30.65   24.01     44.65        49           1   \n\n     Wind Speed Current Description  \n558       12.37      No description  \n559        6.58      No description  \n560       16.53      No description  \n561        5.75      No description  \n562        2.24      No description  \n563       10.29      No description  \n564        6.93      No description  \n565        5.82      No description  \n566        2.95      No description  \n567        7.43      No description  ",
      "text/html": "<div>\n<style scoped>\n    .dataframe tbody tr th:only-of-type {\n        vertical-align: middle;\n    }\n\n    .dataframe tbody tr th {\n        vertical-align: top;\n    }\n\n    .dataframe thead th {\n        text-align: right;\n    }\n</style>\n<table border=\"1\" class=\"dataframe\">\n  <thead>\n    <tr style=\"text-align: right;\">\n      <th></th>\n      <th>City</th>\n      <th>Country</th>\n      <th>Lat</th>\n      <th>Lng</th>\n      <th>Max Temp</th>\n      <th>Humidity</th>\n      <th>Cloudiness</th>\n      <th>Wind Speed</th>\n      <th>Current Description</th>\n    </tr>\n  </thead>\n  <tbody>\n    <tr>\n      <td>558</td>\n      <td>Puerto Escondido</td>\n      <td>MX</td>\n      <td>15.85</td>\n      <td>-97.07</td>\n      <td>82.78</td>\n      <td>75</td>\n      <td>100</td>\n      <td>12.37</td>\n      <td>No description</td>\n    </tr>\n    <tr>\n      <td>559</td>\n      <td>Ust-Kuyga</td>\n      <td>RU</td>\n      <td>70.02</td>\n      <td>135.60</td>\n      <td>49.19</td>\n      <td>79</td>\n      <td>100</td>\n      <td>6.58</td>\n      <td>No description</td>\n    </tr>\n    <tr>\n      <td>560</td>\n      <td>Kalianget</td>\n      <td>ID</td>\n      <td>-7.05</td>\n      <td>113.93</td>\n      <td>83.07</td>\n      <td>73</td>\n      <td>20</td>\n      <td>16.53</td>\n      <td>No description</td>\n    </tr>\n    <tr>\n      <td>561</td>\n      <td>Ossora</td>\n      <td>RU</td>\n      <td>59.24</td>\n      <td>163.07</td>\n      <td>55.92</td>\n      <td>78</td>\n      <td>27</td>\n      <td>5.75</td>\n      <td>No description</td>\n    </tr>\n    <tr>\n      <td>562</td>\n      <td>Constantine</td>\n      <td>DZ</td>\n      <td>36.37</td>\n      <td>6.61</td>\n      <td>60.80</td>\n      <td>77</td>\n      <td>20</td>\n      <td>2.24</td>\n      <td>No description</td>\n    </tr>\n    <tr>\n      <td>563</td>\n      <td>Bellevue</td>\n      <td>US</td>\n      <td>47.61</td>\n      <td>-122.20</td>\n      <td>70.00</td>\n      <td>49</td>\n      <td>40</td>\n      <td>10.29</td>\n      <td>No description</td>\n    </tr>\n    <tr>\n      <td>564</td>\n      <td>Westport</td>\n      <td>US</td>\n      <td>41.14</td>\n      <td>-73.36</td>\n      <td>71.60</td>\n      <td>83</td>\n      <td>75</td>\n      <td>6.93</td>\n      <td>No description</td>\n    </tr>\n    <tr>\n      <td>565</td>\n      <td>Piney Green</td>\n      <td>US</td>\n      <td>34.72</td>\n      <td>-77.32</td>\n      <td>80.60</td>\n      <td>78</td>\n      <td>1</td>\n      <td>5.82</td>\n      <td>No description</td>\n    </tr>\n    <tr>\n      <td>566</td>\n      <td>Acolla</td>\n      <td>PE</td>\n      <td>-11.73</td>\n      <td>-75.55</td>\n      <td>47.34</td>\n      <td>75</td>\n      <td>98</td>\n      <td>2.95</td>\n      <td>No description</td>\n    </tr>\n    <tr>\n      <td>567</td>\n      <td>De Aar</td>\n      <td>ZA</td>\n      <td>-30.65</td>\n      <td>24.01</td>\n      <td>44.65</td>\n      <td>49</td>\n      <td>1</td>\n      <td>7.43</td>\n      <td>No description</td>\n    </tr>\n  </tbody>\n</table>\n</div>"
     },
     "metadata": {},
     "execution_count": 19
    }
   ],
   "source": [
    "city_data_df.tail(10)\n"
   ]
  },
  {
   "cell_type": "code",
   "execution_count": null,
   "metadata": {},
   "outputs": [],
   "source": []
  }
 ],
 "metadata": {
  "language_info": {
   "codemirror_mode": {
    "name": "ipython",
    "version": 3
   },
   "file_extension": ".py",
   "mimetype": "text/x-python",
   "name": "python",
   "nbconvert_exporter": "python",
   "pygments_lexer": "ipython3",
   "version": "3.7.4-final"
  },
  "orig_nbformat": 2,
  "kernelspec": {
   "name": "python3",
   "display_name": "Python 3"
  }
 },
 "nbformat": 4,
 "nbformat_minor": 2
}