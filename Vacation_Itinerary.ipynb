{
 "cells": [
  {
   "cell_type": "code",
   "execution_count": 1,
   "metadata": {},
   "outputs": [],
   "source": [
    "# Import dependencies\n",
    "import pandas as pd \n",
    "import numpy as np \n",
    "import gmaps\n",
    "import gmaps.datasets\n",
    "from config import g_key"
   ]
  },
  {
   "cell_type": "code",
   "execution_count": 2,
   "metadata": {},
   "outputs": [],
   "source": [
    "# Import csv with user inputs for ideal conditions\n",
    "imported_df = pd.read_csv(\"weather_data/WeatherPy_vacation.csv\")"
   ]
  },
  {
   "cell_type": "code",
   "execution_count": 3,
   "metadata": {},
   "outputs": [],
   "source": [
    "# Sort DF to find cities that are near each other\n",
    "sorted_df = imported_df.sort_values(['Lat','Lng'])\n",
    "sorted_df = sorted_df.dropna().drop(columns=\"Unnamed: 0\")\n"
   ]
  },
  {
   "cell_type": "code",
   "execution_count": 4,
   "metadata": {},
   "outputs": [],
   "source": [
    "# Create array with 4 cities that are close to one another\n",
    "city1_info = sorted_df.loc[sorted_df['City'] == \"Bengkulu\"]\n",
    "city2_info = sorted_df.loc[sorted_df['City'] == \"Labuhan\"]\n",
    "city3_info = sorted_df.loc[sorted_df['City'] == \"Ambon\"]\n",
    "city4_info = sorted_df.loc[sorted_df['City'] == \"Nabire\"]"
   ]
  },
  {
   "cell_type": "code",
   "execution_count": 5,
   "metadata": {
    "tags": []
   },
   "outputs": [],
   "source": [
    "city1 = (np.array(city1_info)[0,2],np.array(city1_info)[0,3])\n",
    "city2 = (np.array(city2_info)[0,2],np.array(city2_info)[0,3])\n",
    "city3 = (np.array(city3_info)[0,2],np.array(city3_info)[0,3])\n",
    "city4 = (np.array(city4_info)[0,2],np.array(city4_info)[0,3])"
   ]
  },
  {
   "cell_type": "code",
   "execution_count": 6,
   "metadata": {},
   "outputs": [],
   "source": [
    "marker_df = pd.concat([city1_info, city2_info, city3_info, city4_info])"
   ]
  },
  {
   "cell_type": "code",
   "execution_count": 7,
   "metadata": {},
   "outputs": [],
   "source": [
    "marker_df = marker_df.reset_index(drop=True)"
   ]
  },
  {
   "cell_type": "code",
   "execution_count": 8,
   "metadata": {},
   "outputs": [],
   "source": [
    "info_box_template = \"\"\"\n",
    "<dl>\n",
    "<dt><b>Hotel Name</b></dt><dd>{Hotel Name}</dd>\n",
    "<dt><b>City</b></dt><dd>{City}</dd>\n",
    "<dt><b>Country</b></dt><dd>{Country}</dd>\n",
    "<dt><b>Current Weather</b></dt><dd>{Current Description} and {Max Temp} °F</dd></dl>\n",
    "\"\"\""
   ]
  },
  {
   "cell_type": "code",
   "execution_count": 9,
   "metadata": {},
   "outputs": [
    {
     "output_type": "execute_result",
     "data": {
      "text/plain": "['\\n<dl>\\n<dt><b>Hotel Name</b></dt><dd>Grage Hotel Bengkulu</dd>\\n<dt><b>City</b></dt><dd>Bengkulu</dd>\\n<dt><b>Country</b></dt><dd>ID</dd>\\n<dt><b>Current Weather</b></dt><dd>broken clouds and 86.9 °F</dd></dl>\\n',\n '\\n<dl>\\n<dt><b>Hotel Name</b></dt><dd>bador sepret</dd>\\n<dt><b>City</b></dt><dd>Labuhan</dd>\\n<dt><b>Country</b></dt><dd>ID</dd>\\n<dt><b>Current Weather</b></dt><dd>broken clouds and 81.64 °F</dd></dl>\\n',\n '\\n<dl>\\n<dt><b>Hotel Name</b></dt><dd>Swiss-Belhotel Ambon</dd>\\n<dt><b>City</b></dt><dd>Ambon</dd>\\n<dt><b>Country</b></dt><dd>ID</dd>\\n<dt><b>Current Weather</b></dt><dd>scattered clouds and 82.4 °F</dd></dl>\\n',\n '\\n<dl>\\n<dt><b>Hotel Name</b></dt><dd>Hotel Nusantara Nabire</dd>\\n<dt><b>City</b></dt><dd>Nabire</dd>\\n<dt><b>Country</b></dt><dd>ID</dd>\\n<dt><b>Current Weather</b></dt><dd>overcast clouds and 85.62 °F</dd></dl>\\n']"
     },
     "metadata": {},
     "execution_count": 9
    }
   ],
   "source": [
    "# Store the DataFrame Row.\n",
    "marker_info = [info_box_template.format(**row) for index, row in marker_df.iterrows()]\n",
    "marker_info"
   ]
  },
  {
   "cell_type": "code",
   "execution_count": 13,
   "metadata": {},
   "outputs": [
    {
     "output_type": "execute_result",
     "data": {
      "text/plain": "[(-3.8, 102.27), (-6.88, 112.21), (-3.7, 128.18), (-3.37, 135.48)]"
     },
     "metadata": {},
     "execution_count": 13
    }
   ],
   "source": [
    "locations = [city1, city2, city3, city4]\n",
    "vacay_route = gmaps.directions_layer(city1, city4, waypoints=[city2, city3],travel_mode='DRIVING')\n",
    "locations"
   ]
  },
  {
   "cell_type": "code",
   "execution_count": 14,
   "metadata": {},
   "outputs": [],
   "source": [
    "gmaps.configure(api_key=g_key)\n",
    "fig = gmaps.figure()\n",
    "markers = gmaps.marker_layer(locations,info_box_content=marker_info)\n",
    "fig.add_layer(vacay_route)\n",
    "fig.add_layer(markers)\n"
   ]
  },
  {
   "cell_type": "code",
   "execution_count": 15,
   "metadata": {},
   "outputs": [
    {
     "output_type": "display_data",
     "data": {
      "text/plain": "Figure(layout=FigureLayout(height='420px'))",
      "application/vnd.jupyter.widget-view+json": {
       "version_major": 2,
       "version_minor": 0,
       "model_id": "356cfc01d5834220b48d0f494c5ddf5a"
      }
     },
     "metadata": {}
    }
   ],
   "source": [
    "fig"
   ]
  },
  {
   "cell_type": "code",
   "execution_count": null,
   "metadata": {},
   "outputs": [],
   "source": []
  }
 ],
 "metadata": {
  "language_info": {
   "codemirror_mode": {
    "name": "ipython",
    "version": 3
   },
   "file_extension": ".py",
   "mimetype": "text/x-python",
   "name": "python",
   "nbconvert_exporter": "python",
   "pygments_lexer": "ipython3",
   "version": "3.7.4-final"
  },
  "orig_nbformat": 2,
  "kernelspec": {
   "name": "python3",
   "display_name": "Python 3"
  }
 },
 "nbformat": 4,
 "nbformat_minor": 2
}